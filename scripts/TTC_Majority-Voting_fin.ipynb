{
 "cells": [
  {
   "cell_type": "markdown",
   "id": "f5dfe9bb",
   "metadata": {},
   "source": [
    "# Majority voting"
   ]
  },
  {
   "cell_type": "code",
   "execution_count": 2,
   "id": "bbe9a18f",
   "metadata": {},
   "outputs": [],
   "source": [
    "import os\n",
    "import torch\n",
    "import random\n",
    "import numpy as np\n",
    "import json\n",
    "import pandas as pd\n",
    "import asyncio\n",
    "import time\n",
    "\n",
    "from openai import AsyncOpenAI\n",
    "from datasets import load_dataset\n",
    "from collections import defaultdict\n",
    "from multiprocessing import Process, Queue\n",
    "from pathlib import Path\n",
    "from datetime import datetime\n",
    "from typing import List, Dict, Tuple\n",
    "\n",
    "from utils import strip_string, last_boxed_only_string, remove_boxed, is_equiv\n",
    "from monitor_power import monitor_npu_power_usage, monitor_gpu_power_usage, calculate_avg_power_usage\n"
   ]
  },
  {
   "cell_type": "markdown",
   "id": "651bb064",
   "metadata": {},
   "source": [
    "* Setting Configurations "
   ]
  },
  {
   "cell_type": "code",
   "execution_count": 3,
   "id": "6c01a367",
   "metadata": {},
   "outputs": [],
   "source": [
    "config = {\n",
    "    \"api_url\": \"http://localhost:8000/v1/\",\n",
    "    \"model\": \"EMPTY\",\n",
    "    \"dataset_name\": \"HuggingFaceH4/MATH-500\",\n",
    "    \"dataset_split\": \"test\",\n",
    "    \"prompt\": \"\"\"Solve the following math problem efficiently and clearly:\n",
    "\n",
    "- For simple problems (2 steps or fewer):\n",
    "Provide a concise solution with minimal explanation.\n",
    "\n",
    "- For complex problems (3 steps or more):\n",
    "Use this step-by-step format:\n",
    "\n",
    "## Step 1: [Concise description]\n",
    "[Brief explanation and calculations]\n",
    "\n",
    "## Step 2: [Concise description]\n",
    "[Brief explanation and calculations]\n",
    "\n",
    "...\n",
    "\n",
    "Therefore, the final answer is: $\\\\boxed{answer}$. I hope it is correct.\n",
    "\n",
    "Where [answer] is just the final number or expression that solves the problem.\"\"\"\n",
    "}"
   ]
  },
  {
   "cell_type": "code",
   "execution_count": 4,
   "id": "7361148e",
   "metadata": {},
   "outputs": [],
   "source": [
    "# ------------------------- OpenAI API Client -------------------------\n",
    "def create_client():\n",
    "    return AsyncOpenAI(base_url=config[\"api_url\"], api_key=\"EMPTY\")\n",
    "\n",
    "client = create_client()\n",
    "\n",
    "def system(msg):\n",
    "    return {\"role\": \"system\", \"content\": msg}\n",
    "\n",
    "def user(msg):\n",
    "    return {\"role\": \"user\", \"content\": msg}\n",
    "\n"
   ]
  },
  {
   "cell_type": "code",
   "execution_count": 5,
   "id": "6734afe4",
   "metadata": {},
   "outputs": [
    {
     "ename": "NameError",
     "evalue": "name 'mp' is not defined",
     "output_type": "error",
     "traceback": [
      "\u001b[0;31m---------------------------------------------------------------------------\u001b[0m",
      "\u001b[0;31mNameError\u001b[0m                                 Traceback (most recent call last)",
      "Cell \u001b[0;32mIn[5], line 12\u001b[0m\n\u001b[1;32m      9\u001b[0m     torch\u001b[38;5;241m.\u001b[39mbackends\u001b[38;5;241m.\u001b[39mcudnn\u001b[38;5;241m.\u001b[39mdeterministic \u001b[38;5;241m=\u001b[39m \u001b[38;5;28;01mTrue\u001b[39;00m\n\u001b[1;32m     10\u001b[0m     torch\u001b[38;5;241m.\u001b[39mbackends\u001b[38;5;241m.\u001b[39mcudnn\u001b[38;5;241m.\u001b[39mbenchmark \u001b[38;5;241m=\u001b[39m \u001b[38;5;28;01mFalse\u001b[39;00m\n\u001b[0;32m---> 12\u001b[0m \u001b[43mset_seed\u001b[49m\u001b[43m(\u001b[49m\u001b[38;5;241;43m42\u001b[39;49m\u001b[43m)\u001b[49m\n",
      "Cell \u001b[0;32mIn[5], line 3\u001b[0m, in \u001b[0;36mset_seed\u001b[0;34m(seed)\u001b[0m\n\u001b[1;32m      2\u001b[0m \u001b[38;5;28;01mdef\u001b[39;00m\u001b[38;5;250m \u001b[39m\u001b[38;5;21mset_seed\u001b[39m(seed):\n\u001b[0;32m----> 3\u001b[0m     \u001b[43mmp\u001b[49m\u001b[38;5;241m.\u001b[39mset_sharing_strategy(\u001b[38;5;124m'\u001b[39m\u001b[38;5;124mfile_system\u001b[39m\u001b[38;5;124m'\u001b[39m)\n\u001b[1;32m      4\u001b[0m     random\u001b[38;5;241m.\u001b[39mseed(seed)\n\u001b[1;32m      5\u001b[0m     np\u001b[38;5;241m.\u001b[39mrandom\u001b[38;5;241m.\u001b[39mseed(seed)\n",
      "\u001b[0;31mNameError\u001b[0m: name 'mp' is not defined"
     ]
    }
   ],
   "source": [
    "# Fix seed \n",
    "def set_seed(seed):\n",
    "    mp.set_sharing_strategy('file_system')\n",
    "    random.seed(seed)\n",
    "    np.random.seed(seed)\n",
    "    torch.manual_seed(seed)\n",
    "    torch.cuda.manual_seed(seed)\n",
    "    torch.cuda.manual_seed_all(seed)\n",
    "    torch.backends.cudnn.deterministic = True\n",
    "    torch.backends.cudnn.benchmark = False\n",
    "\n",
    "set_seed(42)\n"
   ]
  },
  {
   "cell_type": "code",
   "execution_count": 4,
   "id": "16ff9db7",
   "metadata": {},
   "outputs": [
    {
     "name": "stdout",
     "output_type": "stream",
     "text": [
      "WARNING 08-03 08:37:38 arg_utils.py:953] Chunked prefill is enabled by default for models with max_model_len > 32K. Currently, chunked prefill might not work with some features or models. If you encounter any issues, please disable chunked prefill by setting --enable-chunked-prefill=False.\n",
      "INFO 08-03 08:37:38 config.py:1005] Chunked prefill is enabled with max_num_batched_tokens=512.\n",
      "INFO 08-03 08:37:38 llm_engine.py:237] Initializing an LLM engine (vdev) with config: model='meta-llama/Llama-3.1-8B-Instruct', speculative_config=None, tokenizer='meta-llama/Llama-3.1-8B-Instruct', skip_tokenizer_init=False, tokenizer_mode=auto, revision=None, override_neuron_config=None, rope_scaling=None, rope_theta=None, tokenizer_revision=None, trust_remote_code=False, dtype=torch.bfloat16, max_seq_len=131072, download_dir=None, load_format=LoadFormat.AUTO, tensor_parallel_size=1, pipeline_parallel_size=1, disable_custom_all_reduce=False, quantization=None, enforce_eager=False, kv_cache_dtype=auto, quantization_param_path=None, device_config=cuda, decoding_config=DecodingConfig(guided_decoding_backend='outlines'), observability_config=ObservabilityConfig(otlp_traces_endpoint=None, collect_model_forward_time=False, collect_model_execute_time=False), seed=0, served_model_name=meta-llama/Llama-3.1-8B-Instruct, use_v2_block_manager=True, num_scheduler_steps=1, chunked_prefill_enabled=True multi_step_stream_outputs=True, enable_prefix_caching=False, use_async_output_proc=True, use_cached_outputs=False, mm_processor_kwargs=None)\n",
      "INFO 08-03 08:37:41 model_runner.py:1060] Starting to load model meta-llama/Llama-3.1-8B-Instruct...\n",
      "INFO 08-03 08:37:42 weight_utils.py:243] Using model weights format ['*.safetensors']\n"
     ]
    },
    {
     "name": "stderr",
     "output_type": "stream",
     "text": [
      "Loading safetensors checkpoint shards:   0% Completed | 0/4 [00:00<?, ?it/s]\n",
      "Loading safetensors checkpoint shards:  25% Completed | 1/4 [00:00<00:00,  3.29it/s]\n",
      "Loading safetensors checkpoint shards:  50% Completed | 2/4 [00:01<00:01,  1.47it/s]\n",
      "Loading safetensors checkpoint shards:  75% Completed | 3/4 [00:02<00:00,  1.25it/s]\n",
      "Loading safetensors checkpoint shards: 100% Completed | 4/4 [00:03<00:00,  1.23it/s]\n",
      "Loading safetensors checkpoint shards: 100% Completed | 4/4 [00:03<00:00,  1.32it/s]\n"
     ]
    },
    {
     "name": "stdout",
     "output_type": "stream",
     "text": [
      "INFO 08-03 08:37:45 model_runner.py:1071] Loading model weights took 14.9888 GB\n"
     ]
    },
    {
     "name": "stderr",
     "output_type": "stream",
     "text": [
      "\n"
     ]
    },
    {
     "name": "stdout",
     "output_type": "stream",
     "text": [
      "INFO 08-03 08:37:46 gpu_executor.py:122] # GPU blocks: 28041, # CPU blocks: 2048\n",
      "INFO 08-03 08:37:46 gpu_executor.py:126] Maximum concurrency for 131072 tokens per request: 3.42x\n",
      "INFO 08-03 08:37:47 model_runner.py:1402] Capturing the model for CUDA graphs. This may lead to unexpected consequences if the model is not static. To run the model in eager mode, set 'enforce_eager=True' or use '--enforce-eager' in the CLI.\n",
      "INFO 08-03 08:37:47 model_runner.py:1406] CUDA graphs can take additional 1~3 GiB memory per GPU. If you are running out of memory, consider decreasing `gpu_memory_utilization` or enforcing eager mode. You can also reduce the `max_num_seqs` as needed to decrease memory usage.\n",
      "INFO 08-03 08:37:55 model_runner.py:1530] Graph capturing finished in 8 secs.\n"
     ]
    }
   ],
   "source": [
    "# Start llm engine \n",
    "llm = LLM(model=config[\"model_path\"])"
   ]
  },
  {
   "cell_type": "markdown",
   "id": "de20bbb5",
   "metadata": {},
   "source": [
    "# Test trials for majority voting"
   ]
  },
  {
   "cell_type": "code",
   "execution_count": 6,
   "id": "01cd38ab",
   "metadata": {},
   "outputs": [],
   "source": [
    "def find_majority_answer(completions: List[str]) -> Tuple[str, Dict[str, int]]:\n",
    "    canonical_groups = defaultdict(int)\n",
    "    canonical_to_original = {}\n",
    "\n",
    "    for output in completions:\n",
    "        boxed = last_boxed_only_string(output)\n",
    "        if boxed:\n",
    "            try:\n",
    "                answer = remove_boxed(boxed)\n",
    "            except Exception:\n",
    "                continue\n",
    "        else:\n",
    "            continue\n",
    "\n",
    "        canonical = strip_string(answer)\n",
    "        canonical_groups[canonical] += 1\n",
    "        if canonical not in canonical_to_original:\n",
    "            canonical_to_original[canonical] = answer\n",
    "\n",
    "    if not canonical_groups:\n",
    "        return \"\", {}\n",
    "\n",
    "    max_count = max(canonical_groups.values())\n",
    "    for canonical, count in canonical_groups.items():\n",
    "        if count == max_count:\n",
    "            return canonical_to_original[canonical], dict(canonical_groups)\n",
    "\n",
    "def majority_vote(batch: Dict, completions: List[str]) -> Dict:\n",
    "    pred, votes = find_majority_answer(completions)\n",
    "    return {\n",
    "        \"completions\": completions,\n",
    "        \"pred\": pred,\n",
    "        \"votes\": votes,\n",
    "    }\n",
    "\n",
    "\n",
    "def save_results(run_dir: Path, result: dict):\n",
    "    run_dir.mkdir(parents=True, exist_ok=True)\n",
    "    with open(run_dir / \"result.json\", \"w\") as f:\n",
    "        json.dump(result, f, indent=2)"
   ]
  },
  {
   "cell_type": "code",
   "execution_count": 11,
   "id": "daab2aba",
   "metadata": {},
   "outputs": [],
   "source": [
    "async def one_request(prompt: str) -> str:\n",
    "    messages = [\n",
    "        system(\"You are a helpful assistant with various knowledge. Answer with precision and clarity.\"),\n",
    "        user(prompt)\n",
    "    ]\n",
    "    result = \"\"\n",
    "    stream = await client.chat.completions.create(\n",
    "        model=config[\"model\"],\n",
    "        messages=messages,\n",
    "        temperature=0.8,\n",
    "        top_p=1.0,\n",
    "        max_tokens=1500,\n",
    "        stream=True,\n",
    "    )\n",
    "    async for chunk in stream:\n",
    "        if chunk.choices[0].delta.content:\n",
    "            result += chunk.choices[0].delta.content\n",
    "    return result\n",
    "\n",
    "async def generate_n_responses(prompt: str, n: int, timestamps: dict) -> List[str]:\n",
    "    timestamps[\"api_start\"] = time.time()\n",
    "    tasks = [one_request(prompt) for _ in range(n)]\n",
    "    responses = await asyncio.gather(*tasks)\n",
    "    timestamps[\"batch_done\"] = time.time()\n",
    "    return responses"
   ]
  },
  {
   "cell_type": "code",
   "execution_count": 8,
   "id": "99f52f98",
   "metadata": {},
   "outputs": [],
   "source": [
    "# set_seed(42)\n",
    "\n",
    "base_dir = Path(\"results_single\")\n",
    "base_dir.mkdir(exist_ok=True)\n",
    "\n",
    "dataset = load_dataset(config['dataset_name'], split=config['dataset_split'])\n",
    "\n",
    "# n_values = [64, 1, 2, 4, 8, 16, 32, 48]\n",
    "n = 64\n",
    "idx = 0"
   ]
  },
  {
   "cell_type": "code",
   "execution_count": 9,
   "id": "b037e4dc",
   "metadata": {},
   "outputs": [
    {
     "name": "stdout",
     "output_type": "stream",
     "text": [
      "Solve the following math problem efficiently and clearly:\n",
      "\n",
      "- For simple problems (2 steps or fewer):\n",
      "Provide a concise solution with minimal explanation.\n",
      "\n",
      "- For complex problems (3 steps or more):\n",
      "Use this step-by-step format:\n",
      "\n",
      "## Step 1: [Concise description]\n",
      "[Brief explanation and calculations]\n",
      "\n",
      "## Step 2: [Concise description]\n",
      "[Brief explanation and calculations]\n",
      "\n",
      "...\n",
      "\n",
      "Therefore, the final answer is: $\\boxed{answer}$. I hope it is correct.\n",
      "\n",
      "Where [answer] is just the final number or expression that solves the problem.\n",
      "\n",
      "### Problem:\n",
      "Convert the point $(0,3)$ in rectangular coordinates to polar coordinates.  Enter your answer in the form $(r,\\theta),$ where $r > 0$ and $0 \\le \\theta < 2 \\pi.$\n"
     ]
    }
   ],
   "source": [
    "batch = dataset[idx]\n",
    "full_prompt = f\"{config['prompt'].strip()}\\n\\n### Problem:\\n{batch['problem'].strip()}\"\n",
    "print(full_prompt)"
   ]
  },
  {
   "cell_type": "code",
   "execution_count": null,
   "id": "ff686f98",
   "metadata": {},
   "outputs": [],
   "source": []
  },
  {
   "cell_type": "code",
   "execution_count": 12,
   "id": "92c86a78",
   "metadata": {},
   "outputs": [
    {
     "data": {
      "text/plain": [
       "['## Step 1: Convert the point to polar coordinates using the formula $r = \\\\sqrt{x^2 + y^2}$\\n$r = \\\\sqrt{0^2 + 3^2} = \\\\sqrt{9} = 3$\\n\\n## Step 2: Determine the angle $\\\\theta$ using the formula $\\\\theta = \\\\arctan\\\\left(\\\\frac{y}{x}\\\\right)$\\nSince $x=0$, we have to consider the quadrant of the point. The point $(0,3)$ is in the positive y-direction, so $\\\\theta = \\\\frac{\\\\pi}{2}$\\n\\nTherefore, the final answer is: $\\\\boxed{(3,\\\\frac{\\\\pi}{2})}$.',\n",
       " '## Step 1: Calculate the radius (r) using the formula $r = \\\\sqrt{x^2 + y^2}.$\\n$r = \\\\sqrt{0^2 + 3^2} = \\\\sqrt{0 + 9} = \\\\sqrt{9} = 3$\\n\\n## Step 2: Calculate the angle ($\\\\theta$) using the formula $\\\\theta = \\\\arctan(\\\\frac{y}{x}).$\\nSince $x = 0$ and $y = 3$, we get $\\\\theta = \\\\arctan(\\\\frac{3}{0})$. However, this is undefined, so we look at the sign of y to determine the angle. Since y is positive, and the point is in the positive y-axis direction, we have $\\\\theta = \\\\frac{\\\\pi}{2}$.\\n\\n## Step 3: Determine if we need to add $2\\\\pi$ to $\\\\theta$ based on the quadrant of the point.\\nSince the point $(0, 3)$ is in the first quadrant of the coordinate plane, $\\\\theta = \\\\frac{\\\\pi}{2}$ is already in the correct range of $0 \\\\leq \\\\theta < 2\\\\pi$. Therefore, no adjustment is needed.\\n\\nTherefore, the final answer is: $\\\\boxed{(3, \\\\frac{\\\\pi}{2})}$.',\n",
       " '## Step 1: Calculate the distance from the origin to the point\\n$r = \\\\sqrt{x^2 + y^2} = \\\\sqrt{0^2 + 3^2} = \\\\sqrt{0 + 9} = \\\\sqrt{9} = 3$\\n\\n## Step 2: Find the angle $\\\\theta$ using the arctangent function\\n$\\\\theta = \\\\tan^{-1}\\\\left(\\\\frac{y}{x}\\\\right) = \\\\tan^{-1}\\\\left(\\\\frac{3}{0}\\\\right)$\\nSince $x$ is 0 and $y$ is positive, $\\\\theta$ should be $\\\\frac{\\\\pi}{2}$.\\n\\n## Step 3: Adjust $\\\\theta$ based on the quadrant\\nThe point $(0,3)$ lies in the second quadrant, where $\\\\theta$ should be $\\\\pi - \\\\frac{\\\\pi}{2} = \\\\frac{\\\\pi}{2}$, but since we want the angle $\\\\theta$  in the range  $0 \\\\le \\\\theta < 2\\\\pi$, the correct value of $\\\\theta$ is $\\\\frac{3\\\\pi}{2}$.\\n\\nTherefore, the final answer is: $\\\\boxed{(3,\\\\frac{3\\\\pi}{2})}$.',\n",
       " \"## Step 1: Calculate the distance from the origin to the point (0,3)\\n$r = \\\\sqrt{x^2 + y^2} = \\\\sqrt{0^2 + 3^2} = \\\\sqrt{9} = 3$\\n\\n## Step 2: Find the angle θ in standard position\\nSince the point is on the positive y-axis, θ is 90° (or π/2 radians) counterclockwise from the positive x-axis.\\n\\n## Step 3: Convert the angle from degrees to radians and ensure it's in the correct range\\nθ = π/2 = 1.5708... radians, which is in the correct range 0 ≤ θ < 2π.\\n\\n## Step 4: Write the polar coordinates as (r, θ)\\nThe polar coordinates are (3, π/2).\\n\\nTherefore, the final answer is: $\\\\boxed{(3, \\\\frac{\\\\pi}{2})}$.\",\n",
       " '## Step 1: Calculate the distance from the origin to the point (0,3) using the formula $r = \\\\sqrt{x^2 + y^2}$.\\n$r = \\\\sqrt{0^2 + 3^2} = \\\\sqrt{0 + 9} = \\\\sqrt{9} = 3$\\n\\n## Step 2: Determine the angle $\\\\theta$ using the formula $\\\\theta = \\\\arctan\\\\left(\\\\frac{y}{x}\\\\right)$.\\nSince the point is on the y-axis, the angle is $\\\\pi / 2$ radians. \\n\\n## Step 3:  Since the point is in the first quadrant, the angle $\\\\theta$ is $\\\\frac{\\\\pi}{2}$.\\nHowever, in this case, we need to verify if $x = 0$ or $y=0,$ since this can cause the formula $\\\\theta = \\\\arctan(y/x)$ to be undefined. We find that $x=0$ and $y=3,$ so the angle is simply $\\\\frac{\\\\pi}{2}.$\\n\\nTherefore, the final answer is: $\\\\boxed{(3,\\\\frac{\\\\pi}{2})}$.',\n",
       " '## Step 1: Calculate the radius (r) using the formula $r = \\\\sqrt{x^2 + y^2}$.\\n$r = \\\\sqrt{0^2 + 3^2} = \\\\sqrt{9} = 3$\\n\\n## Step 2: Calculate the angle ($\\\\theta$) using the formula $\\\\theta = \\\\tan^{-1}\\\\left(\\\\frac{y}{x}\\\\right)$.\\nSince $x=0$, we have a special case. In this case, the angle $\\\\theta$ is simply $\\\\frac{\\\\pi}{2}$ if $y$ is positive, which is true in this case.\\n\\n## Step 3: Given the point is in the first quadrant, where $0 \\\\le \\\\theta < 2\\\\pi$, we can directly use the calculated angle.\\nTherefore, the polar coordinates of the point $(0,3)$ are $\\\\left(3, \\\\frac{\\\\pi}{2}\\\\right)$.\\n\\nTherefore, the final answer is: $\\\\boxed{\\\\left(3, \\\\frac{\\\\pi}{2}\\\\right)}$.',\n",
       " '## Step 1: Find the value of r\\nTo find the value of r, we use the formula $r = \\\\sqrt{x^2 + y^2}$ where x = 0 and y = 3.\\n\\n## Step 2: Calculate the value of r\\nPlugging in the values, we get $r = \\\\sqrt{0^2 + 3^2} = \\\\sqrt{9} = 3$.\\n\\n## Step 3: Find the value of $\\\\theta$\\nTo find the value of $\\\\theta$, we use the formula $\\\\theta = \\\\tan^{-1}\\\\left(\\\\frac{y}{x}\\\\right)$ where x = 0 and y = 3.\\n\\n## Step 4: Calculate the value of $\\\\theta$\\nSince x = 0, we have $\\\\theta = \\\\tan^{-1}\\\\left(\\\\frac{3}{0}\\\\right)$. However, when x = 0, $\\\\theta$ is either $\\\\frac{\\\\pi}{2}$ or $\\\\frac{3\\\\pi}{2}$. We need to check which one is correct. Since y = 3 is positive and x = 0, $\\\\theta$ is $\\\\frac{\\\\pi}{2}$.\\n\\nTherefore, the final answer is: $\\\\boxed{\\\\left(3, \\\\frac{\\\\pi}{2}\\\\right)}$. I hope it is correct.',\n",
       " '## Step 1: Convert rectangular coordinates to polar coordinates formula\\nThe formula to convert rectangular coordinates to polar coordinates is given by $r = \\\\sqrt{x^2 + y^2}$ and $\\\\theta = \\\\arctan\\\\left(\\\\frac{y}{x}\\\\right)$.\\n\\n## Step 2: Calculate the value of r\\nUsing the formula, we calculate the value of r as $r = \\\\sqrt{0^2 + 3^2} = \\\\sqrt{0 + 9} = \\\\sqrt{9} = 3$.\\n\\n## Step 3: Calculate the value of θ\\nSince x = 0, we need to consider the case where x is zero separately. In this case, $\\\\theta = \\\\frac{\\\\pi}{2}$ because the point lies on the positive y-axis.\\n\\nTherefore, the final answer is: $\\\\boxed{(3,\\\\frac{\\\\pi}{2})}$.',\n",
       " '## Step 1: Calculate the radius (r) using the formula $r = \\\\sqrt{x^2 + y^2}$\\n$r = \\\\sqrt{0^2 + 3^2} = \\\\sqrt{0 + 9} = \\\\sqrt{9} = 3$\\n\\n## Step 2: Calculate the angle ($\\\\theta$) using the formula $\\\\theta = \\\\tan^{-1}\\\\left(\\\\frac{y}{x}\\\\right)$\\nSince $x = 0$, the angle is either $\\\\frac{\\\\pi}{2}$ (if $y > 0$) or $\\\\frac{3\\\\pi}{2}$ (if $y < 0$). In this case, $y = 3 > 0$, so $\\\\theta = \\\\frac{\\\\pi}{2}$.\\n\\nTherefore, the final answer is: $\\\\boxed{(3,\\\\frac{\\\\pi}{2})}$.',\n",
       " '## Step 1: Calculate the distance $r$ from the origin using the formula $r = \\\\sqrt{x^2 + y^2}$.\\n$r = \\\\sqrt{0^2 + 3^2} = \\\\sqrt{9} = 3$\\n\\n## Step 2: Find the angle $\\\\theta$ using the formula $\\\\tan\\\\theta = \\\\frac{y}{x}$. \\nSince $x = 0$, we will use $\\\\theta = \\\\frac{\\\\pi}{2}$ if $y$ is positive.\\n\\n## Step 3: Determine the quadrant of the point $(0,3)$ to ensure the angle $\\\\theta$ is in the correct range.\\nThe point $(0,3)$ lies on the positive $y$-axis, so the angle $\\\\theta = \\\\frac{\\\\pi}{2}$ is in the correct range.\\n\\nTherefore, the final answer is: $\\\\boxed{(3,\\\\frac{\\\\pi}{2})}$.',\n",
       " '## Step 1: Calculate the distance from the origin to the point using the formula $r = \\\\sqrt{x^2 + y^2}$\\n$r = \\\\sqrt{0^2 + 3^2} = \\\\sqrt{9} = 3$\\n\\n## Step 2: Calculate the angle $\\\\theta$ using the formula $\\\\theta = \\\\arctan(\\\\frac{y}{x})$\\nHowever, since $x = 0$, we will use the fact that $\\\\tan(\\\\frac{\\\\pi}{2}) = \\\\infty$ and $\\\\tan(\\\\frac{3\\\\pi}{2}) = -\\\\infty$. Since $y$ is positive and $x$ is $0$, the angle $\\\\theta$ is $\\\\frac{\\\\pi}{2}$.\\n\\nTherefore, the final answer is: $\\\\boxed{(3,\\\\frac{\\\\pi}{2})}$.',\n",
       " '## Step 1: Calculate the distance from the origin (r)\\nThe distance formula is $r = \\\\sqrt{x^2 + y^2}$. Plugging in the values $x=0$ and $y=3$, we get $r = \\\\sqrt{0^2 + 3^2} = \\\\sqrt{9} = 3$.\\n\\n## Step 2: Calculate the angle from the positive x-axis ($\\\\theta$)\\nThe tangent function is $\\\\tan\\\\theta = \\\\frac{y}{x}$. Plugging in the values $x=0$ and $y=3$, we get $\\\\tan\\\\theta = \\\\frac{3}{0}$, which is undefined. However, we know that the point $(0,3)$ lies on the positive y-axis, so $\\\\theta$ is $\\\\frac{\\\\pi}{2}$.\\n\\nTherefore, the final answer is: $\\\\boxed{(3,\\\\frac{\\\\pi}{2})}$.',\n",
       " '## Step 1: Calculate the distance from the origin\\nWe use the formula $r = \\\\sqrt{x^2 + y^2}$ to find the distance from the origin. Given $(x, y) = (0, 3)$, we have $r = \\\\sqrt{0^2 + 3^2} = \\\\sqrt{9} = 3$.\\n\\n## Step 2: Calculate the angle $\\\\theta$\\nWe use the formula $\\\\theta = \\\\arctan\\\\left(\\\\frac{y}{x}\\\\right)$ to find the angle. Given $(x, y) = (0, 3)$, we have $\\\\theta = \\\\arctan\\\\left(\\\\frac{3}{0}\\\\right)$. However, since $x=0$, we know that $\\\\theta$ is either $\\\\frac{\\\\pi}{2}$ or $\\\\frac{3\\\\pi}{2}$, depending on the sign of $y$. Since $y=3$ is positive, we have $\\\\theta = \\\\frac{\\\\pi}{2}$.\\n\\n## Step 3: Determine the correct quadrant for $\\\\theta$\\nSince $x=0$, the point $(0,3)$ lies on the positive y-axis. Therefore, the angle $\\\\theta$ is $\\\\frac{\\\\pi}{2}$.\\n\\nThe final answer is: $\\\\boxed{(3,\\\\frac{\\\\pi}{2})}$.',\n",
       " '## Step 1: Calculate the radial distance $r$ using the formula $r = \\\\sqrt{x^2 + y^2}$\\n$r = \\\\sqrt{0^2 + 3^2} = \\\\sqrt{0 + 9} = \\\\sqrt{9} = 3$\\n\\n## Step 2: Calculate the angular coordinate $\\\\theta$ using the formula $\\\\theta = \\\\tan^{-1}\\\\left(\\\\frac{y}{x}\\\\right)$\\nSince $x = 0$, $\\\\theta$ will be either $\\\\frac{\\\\pi}{2}$ or $\\\\frac{3\\\\pi}{2}$ depending on the sign of $y$. Since $y$ is positive, $\\\\theta$ is $\\\\frac{\\\\pi}{2}$.\\n\\n## Step 3: Combine the radial distance and angular coordinate into a polar coordinate\\nThe polar coordinate is $\\\\left(3, \\\\frac{\\\\pi}{2}\\\\right)$.\\n\\nTherefore, the final answer is: $\\\\boxed{\\\\left(3, \\\\frac{\\\\pi}{2}\\\\right)}$.',\n",
       " '## Step 1: Calculate the radius (r) using the formula $r = \\\\sqrt{x^2 + y^2}$.\\n$r = \\\\sqrt{0^2 + 3^2} = \\\\sqrt{0 + 9} = \\\\sqrt{9} = 3$\\n\\n## Step 2: Calculate the angle ($\\\\theta$) using the formula $\\\\theta = \\\\tan^{-1}(\\\\frac{y}{x})$.\\nSince $x = 0$, we have $\\\\theta = \\\\tan^{-1}(\\\\frac{3}{0})$, which will be $\\\\frac{\\\\pi}{2}$ because the point is directly above the origin on the y-axis.\\n\\n## Step 3: Determine the correct quadrant for $\\\\theta$.\\nGiven that the point $(0,3)$ is in the positive y-direction, the angle is in the first quadrant, which confirms that $\\\\theta = \\\\frac{\\\\pi}{2}$.\\n\\nTherefore, the final answer is: $\\\\boxed{(3, \\\\frac{\\\\pi}{2})}$.',\n",
       " '## Step 1: Calculate the radius (r) using the formula $r = \\\\sqrt{x^2 + y^2}$.\\n$r = \\\\sqrt{0^2 + 3^2} = \\\\sqrt{0 + 9} = \\\\sqrt{9} = 3$.\\n\\n## Step 2: Calculate the angle ($\\\\theta$) using the formula $\\\\theta = \\\\tan^{-1}\\\\left(\\\\frac{y}{x}\\\\right)$.\\nSince $x = 0$, we cannot directly use this formula. We need to consider the quadrant that the point $(0,3)$ is in. Given $x = 0$ and $y = 3$, the point lies on the positive y-axis, which corresponds to an angle of $\\\\frac{\\\\pi}{2}$.\\n\\nTherefore, the final answer is: $\\\\boxed{\\\\left(3,\\\\frac{\\\\pi}{2}\\\\right)}$.',\n",
       " \"## Step 1: Find the distance from the origin to the point\\n$r = \\\\sqrt{x^2 + y^2} = \\\\sqrt{0^2 + 3^2} = \\\\sqrt{0 + 9} = \\\\sqrt{9} = 3.$\\n\\n## Step 2: Find the angle $\\\\theta$ using the arctangent function\\n$\\\\theta = \\\\arctan\\\\left(\\\\frac{y}{x}\\\\right) = \\\\arctan\\\\left(\\\\frac{3}{0}\\\\right)$ does not exist, since division by zero is undefined. However, we know that the point $(0,3)$ lies on the positive y-axis. Therefore, $\\\\theta = \\\\frac{\\\\pi}{2}$.\\n\\n## Step 3: Determine the correct quadrant\\nSince the point $(0,3)$ lies on the positive y-axis, the angle $\\\\theta$ is in the first quadrant. Therefore, we don't need to add any additional angles to $\\\\theta$.\\n\\nTherefore, the final answer is: $\\\\boxed{(3, \\\\frac{\\\\pi}{2})}$.\",\n",
       " '## Step 1: Calculate the radius (r)\\n$r = \\\\sqrt{x^2 + y^2} = \\\\sqrt{0^2 + 3^2} = \\\\sqrt{0 + 9} = \\\\sqrt{9} = 3$\\n\\n## Step 2: Calculate the angle (θ)\\n$\\\\theta = \\\\tan^{-1}(\\\\frac{y}{x}) = \\\\tan^{-1}(\\\\frac{3}{0})$ Since x is 0, we consider the quadrant of the point (0,3), which is the second quadrant. Therefore, $\\\\theta = \\\\frac{\\\\pi}{2} + \\\\tan^{-1}(\\\\frac{3}{0})$ (this is not necessary for this specific problem because the point (0,3) lies on the y-axis and therefore θ equals π/2)\\n\\n\\nHowever, since the coordinates of point (0,3) actually lie on the positive Y-axis, the angle is π/2.',\n",
       " '## Step 1: Find the distance r from the origin to the point (0,3) using the formula $r = \\\\sqrt{x^2 + y^2}$.\\n$r = \\\\sqrt{0^2 + 3^2} = \\\\sqrt{0 + 9} = \\\\sqrt{9} = 3$\\n\\n## Step 2: Find the angle $\\\\theta$ using the formula $\\\\theta = \\\\tan^{-1}\\\\left( \\\\frac{y}{x}\\\\right)$.\\nSince $x = 0$, we need to consider the quadrant of the point. In this case, the point $(0,3)$ is in the first quadrant, and $\\\\theta$ will be $\\\\frac{\\\\pi}{2}$.\\n\\nTherefore, the final answer is: $\\\\boxed{(3, \\\\frac{\\\\pi}{2})}$.',\n",
       " '## Step 1: Calculate the distance (r) from the origin to the point (0,3)\\nWe use the distance formula: $r = \\\\sqrt{(x_2 - x_1)^2 + (y_2 - y_1)^2}$, where $(x_1, y_1) = (0, 0)$ and $(x_2, y_2) = (0, 3)$. Therefore, $r = \\\\sqrt{(0 - 0)^2 + (3 - 0)^2} = \\\\sqrt{0^2 + 3^2} = \\\\sqrt{9} = 3$.\\n\\n## Step 2: Calculate the angle ($\\\\theta$) from the positive x-axis to the point (0,3)\\nSince the point lies in the upper half-plane (y-coordinate is positive), $\\\\theta$ is an acute angle. The angle can be found using the inverse tangent function: $\\\\theta = \\\\tan^{-1}\\\\left(\\\\frac{y}{x}\\\\right) = \\\\tan^{-1}\\\\left(\\\\frac{3}{0}\\\\right)$. However, since $x = 0$, we need to consider the quadrant. The angle is a right angle in the first quadrant (where the point lies), which is $\\\\frac{\\\\pi}{2}$.\\n\\nTherefore, the final answer is: $\\\\boxed{(3, \\\\frac{\\\\pi}{2})}$.',\n",
       " '## Step 1: Calculate the radius (r) using the formula $r = \\\\sqrt{x^2 + y^2}$\\nPlug in the values of x = 0 and y = 3 into the formula to get $r = \\\\sqrt{0^2 + 3^2} = \\\\sqrt{9} = 3$.\\n\\n## Step 2: Calculate the angle ($\\\\theta$) using the formula $\\\\theta = \\\\tan^{-1}\\\\left(\\\\frac{y}{x}\\\\right)$\\nPlug in the values of x = 0 and y = 3 into the formula to get $\\\\theta = \\\\tan^{-1}\\\\left(\\\\frac{3}{0}\\\\right)$. However, since $\\\\tan^{-1}(\\\\frac{3}{0})$ will result in an undefined value, we can analyze the point $(0,3)$ in the Cartesian plane and conclude that $\\\\theta$ is $\\\\frac{\\\\pi}{2}$ because it lies on the positive y-axis.\\n\\n## Step 3: Combine the values of r and $\\\\theta$ to get the polar coordinates\\nThe polar coordinates of the point $(0,3)$ are $\\\\left(3, \\\\frac{\\\\pi}{2}\\\\right)$.\\n\\nTherefore, the final answer is: $\\\\boxed{\\\\left(3, \\\\frac{\\\\pi}{2}\\\\right)}$. I hope it is correct.',\n",
       " '## Step 1: Find the distance from the origin (r)\\n$r = \\\\sqrt{x^2 + y^2} = \\\\sqrt{0^2 + 3^2} = \\\\sqrt{9} = 3$.\\n\\n## Step 2: Find the angle $\\\\theta$ from the positive x-axis\\nSince the point lies on the positive y-axis, $\\\\theta = \\\\frac{\\\\pi}{2}$.\\n\\nTherefore, the final answer is: $\\\\boxed{(3, \\\\frac{\\\\pi}{2})}$.',\n",
       " '## Step 1: Recall the formula to convert from rectangular to polar coordinates\\nThe formula to convert from rectangular coordinates $(x, y)$ to polar coordinates $(r, \\\\theta)$ is $r = \\\\sqrt{x^2 + y^2}$ and $\\\\theta = \\\\tan^{-1}(\\\\frac{y}{x})$.\\n\\n## Step 2: Calculate the radial distance $r$\\nSubstitute the given values $x = 0$ and $y = 3$ into the formula for $r$: $r = \\\\sqrt{0^2 + 3^2} = \\\\sqrt{9} = 3$.\\n\\n## Step 3: Calculate the angle $\\\\theta$\\nSince $x = 0$, the point lies on the y-axis. This means that the angle $\\\\theta$ is either $\\\\frac{\\\\pi}{2}$ or $\\\\frac{3\\\\pi}{2}$, depending on whether the point is in the first or third quadrant. In this case, since the point is in the first quadrant, the angle $\\\\theta$ is $\\\\frac{\\\\pi}{2}$.\\n\\n## Step 4: Combine the results to obtain the polar coordinates\\nThe polar coordinates of the point $(0, 3)$ are $(r, \\\\theta) = (3, \\\\frac{\\\\pi}{2})$.\\n\\nTherefore, the final answer is: $\\\\boxed{(3, \\\\frac{\\\\pi}{2})}$.',\n",
       " \"## Step 1: Calculate the radius (r) using the formula $r = \\\\sqrt{x^2 + y^2}$.\\n$r = \\\\sqrt{0^2 + 3^2} = \\\\sqrt{0 + 9} = \\\\sqrt{9} = 3.$\\n\\n## Step 2: Calculate the angle ($\\\\theta$) using the formula $\\\\theta = \\\\tan^{-1}\\\\left(\\\\frac{y}{x}\\\\right)$.\\nSince the point is in the first quadrant, we don't need to add any angle adjustments. $\\\\theta = \\\\tan^{-1}\\\\left(\\\\frac{3}{0}\\\\right)$ is undefined, so we consider the point's position: it lies on the positive y-axis. Therefore, $\\\\theta = \\\\frac{\\\\pi}{2}.$\\n\\nTherefore, the final answer is: $\\\\boxed{(3, \\\\frac{\\\\pi}{2})}$.\",\n",
       " '## Step 1: Calculate the distance from the origin to the point\\nWe use the distance formula $r = \\\\sqrt{x^2 + y^2}$ with $x = 0$ and $y = 3$.\\n\\n## Step 2: Substitute the values and calculate the distance\\n$r = \\\\sqrt{0^2 + 3^2} = \\\\sqrt{0 + 9} = \\\\sqrt{9} = 3$\\n\\n## Step 3: Calculate the angle\\nWe use the formula $\\\\theta = \\\\tan^{-1} \\\\left(\\\\frac{y}{x}\\\\right)$ with $y = 3$ and $x = 0$. However, we must consider the quadrant of the point.\\n\\n## Step 4: Determine the angle in the correct quadrant\\nSince the point is in the first quadrant (x is positive, y is positive), the angle is the same as the angle from the positive x-axis to the line connecting the origin to the point.\\n\\n## Step 5: Calculate the final angle\\n$\\\\theta = \\\\tan^{-1} \\\\left(\\\\frac{3}{0}\\\\right)$ is undefined, but we know that $\\\\theta = \\\\frac{\\\\pi}{2}$ because the point lies directly on the positive y-axis.\\n\\nTherefore, the final answer is: $\\\\boxed{(3, \\\\frac{\\\\pi}{2})}$.',\n",
       " \"## Step 1: Calculate the distance from the origin (r)\\nTo find the distance r from the origin, we use the formula $r = \\\\sqrt{x^2 + y^2}$ where x = 0 and y = 3. Plugging these values into the formula gives $r = \\\\sqrt{0^2 + 3^2} = \\\\sqrt{9} = 3$.\\n\\n## Step 2: Calculate the angle from the positive x-axis (θ)\\nTo find the angle θ, we use the formula $\\\\theta = \\\\arctan\\\\left(\\\\frac{y}{x}\\\\right)$. However, since the point (0, 3) lies on the positive y-axis, we need to consider the quadrant it's in. In this case, θ is a right angle (90 degrees or $\\\\frac{\\\\pi}{2}$ radians) since x = 0 and y is positive.\\n\\n## Step 3: Determine the correct quadrant and adjust θ if necessary\\nGiven the point (0, 3), the angle θ is indeed $\\\\frac{\\\\pi}{2}$ radians, as it lies on the positive y-axis.\\n\\nTherefore, the final answer is: $\\\\boxed{(3, \\\\frac{\\\\pi}{2})}$.\",\n",
       " '## Step 1: Calculate the radius $r$\\n$r = \\\\sqrt{x^2 + y^2} = \\\\sqrt{0^2 + 3^2} = \\\\sqrt{0 + 9} = \\\\sqrt{9} = 3$.\\n\\n## Step 2: Calculate the angle $\\\\theta$\\nSince the point lies on the positive y-axis, the angle is $\\\\theta = \\\\frac{\\\\pi}{2}$.\\n\\nTherefore, the final answer is: $(3, \\\\frac{\\\\pi}{2})$.',\n",
       " '## Step 1: Calculate $r$ using the formula $r = \\\\sqrt{x^2 + y^2}$\\nSubstitute $x = 0$ and $y = 3$ into the formula to get $r = \\\\sqrt{0^2 + 3^2} = \\\\sqrt{9} = 3$.\\n\\n## Step 2: Calculate $\\\\theta$ using the formula $\\\\theta = \\\\arctan\\\\left(\\\\frac{y}{x}\\\\right)$\\nSubstitute $x = 0$ and $y = 3$ into the formula to get $\\\\theta = \\\\arctan\\\\left(\\\\frac{3}{0}\\\\right)$. Since $\\\\arctan\\\\left(\\\\frac{3}{0}\\\\right)$ is undefined, we can use the fact that $\\\\arctan\\\\left(\\\\frac{y}{x}\\\\right) = \\\\frac{\\\\pi}{2}$ when $x = 0$ and $y > 0$. Therefore, $\\\\theta = \\\\frac{\\\\pi}{2}$.\\n\\nTherefore, the final answer is: $\\\\boxed{(3, \\\\frac{\\\\pi}{2})}$.',\n",
       " '## Step 1: Calculate the radius $r$ using the formula $r = \\\\sqrt{x^2 + y^2}$.\\n$r = \\\\sqrt{0^2 + 3^2} = \\\\sqrt{9} = 3$.\\n\\n## Step 2: Calculate the angle $\\\\theta$ using the formula $\\\\theta = \\\\arctan(\\\\frac{y}{x})$.\\nSince $x = 0$, we need to consider the sign of $y$ to determine the angle. In this case, $y$ is positive, so $\\\\theta = \\\\frac{\\\\pi}{2}$.\\n\\n## Step 3: Determine if the angle needs to be adjusted based on the quadrant.\\nSince $x$ is 0 and $y$ is positive, the point lies on the positive y-axis. Therefore, the angle is $\\\\frac{\\\\pi}{2}$, which is already within the desired range of $0 \\\\le \\\\theta < 2 \\\\pi$.\\n\\nTherefore, the final answer is: $\\\\boxed{(3,\\\\frac{\\\\pi}{2})}$.',\n",
       " '## Step 1: Calculate the distance from the origin\\nUsing the formula $r = \\\\sqrt{x^2 + y^2},$ where $(x, y) = (0, 3),$ we get $r = \\\\sqrt{0^2 + 3^2} = \\\\sqrt{9} = 3.$\\n\\n## Step 2: Calculate the angle from the positive x-axis\\nSince $(x, y) = (0, 3),$ the point is on the positive y-axis. The angle $\\\\theta$ is therefore $\\\\frac{\\\\pi}{2}$ because it is a right angle.\\n\\n## Step 3: Determine the quadrant and adjust if necessary\\nThe point $(0,3)$ lies in the first quadrant, where $0 \\\\leq \\\\theta < \\\\frac{\\\\pi}{2}.$ Since $\\\\frac{\\\\pi}{2}$ is within this range, no adjustment is needed.\\n\\nTherefore, the final answer is: $\\\\boxed{(3, \\\\frac{\\\\pi}{2})}$.',\n",
       " '## Step 1: Calculate the radius $r$ using the formula $r = \\\\sqrt{x^2 + y^2}$.\\n$\\\\sqrt{0^2 + 3^2} = \\\\sqrt{9} = 3.$\\n\\n## Step 2: Calculate the angle $\\\\theta$ using the formula $\\\\theta = \\\\arctan{\\\\left(\\\\frac{y}{x}\\\\right)}$.\\n$\\\\theta = \\\\arctan{\\\\left(\\\\frac{3}{0}\\\\right)} = \\\\arctan{\\\\left(\\\\infty\\\\right)} = \\\\frac{\\\\pi}{2}.$\\n\\nTherefore, the final answer is: $\\\\boxed{(3,\\\\frac{\\\\pi}{2})}$.',\n",
       " '## Step 1: Calculate the radius $r$\\n$r = \\\\sqrt{x^2 + y^2} = \\\\sqrt{0^2 + 3^2} = \\\\sqrt{0 + 9} = \\\\sqrt{9} = 3.$\\n\\n## Step 2: Calculate the angle $\\\\theta$\\nWe can use the arctan function to find $\\\\theta$: $\\\\theta = \\\\arctan\\\\left(\\\\frac{y}{x}\\\\right) = \\\\arctan\\\\left(\\\\frac{3}{0}\\\\right)$. Since $\\\\frac{3}{0}$ is undefined, we can use the fact that $\\\\arctan(\\\\infty) = \\\\frac{\\\\pi}{2}$. However, because the point is in Quadrant I, $\\\\theta$ will simply be $\\\\frac{\\\\pi}{2}$.\\n\\n## Step 3: Determine the correct quadrant for $\\\\theta$\\nSince the point $(0,3)$ is in Quadrant I and we have $\\\\theta = \\\\frac{\\\\pi}{2}$, this angle is already in the correct quadrant.\\n\\nTherefore, the final answer is: $\\\\boxed{(3, \\\\frac{\\\\pi}{2})}.$',\n",
       " \"## Step 1: Calculate the radius (r) using the formula $r = \\\\sqrt{x^2 + y^2}$\\n$r = \\\\sqrt{0^2 + 3^2} = \\\\sqrt{9} = 3$\\n\\n## Step 2: Calculate the angle ($\\\\theta$) using the formula $\\\\theta = \\\\tan^{-1}(\\\\frac{y}{x})$\\nSince $x = 0$, we have $\\\\theta = \\\\tan^{-1}(\\\\frac{3}{0})$. In this case, $\\\\theta = \\\\frac{\\\\pi}{2}$ because the point $(0,3)$ lies on the positive $y$-axis, which corresponds to a $90^\\\\circ$ angle.\\n\\n## Step 3: Ensure that the angle ($\\\\theta$) is within the interval $0 \\\\le \\\\theta < 2 \\\\pi$\\nSince $\\\\theta = \\\\frac{\\\\pi}{2}$, we don't need to adjust it.\\n\\nTherefore, the final answer is: $\\\\boxed{\\\\left(3, \\\\frac{\\\\pi}{2}\\\\right)}$. I hope it is correct.\",\n",
       " '## Step 1: Find the distance from the origin to the point (0,3) to get the value of r.\\nUsing the distance formula, $r = \\\\sqrt{x^2 + y^2} = \\\\sqrt{0^2 + 3^2} = \\\\sqrt{9} = 3$.\\n\\n## Step 2: Find the angle $\\\\theta$ in standard position formed by the line segment from the origin to the point (0,3).\\nSince the point is in the positive $y$-direction and the $x$-coordinate is 0, the angle is $\\\\frac{\\\\pi}{2}$.\\n\\n## Step 3: Write the polar coordinates as $(r,\\\\theta)$.\\nThe polar coordinates are $(3, \\\\frac{\\\\pi}{2})$.\\n\\nTherefore, the final answer is: $\\\\boxed{(3, \\\\frac{\\\\pi}{2})}$. I hope it is correct.',\n",
       " '## Step 1: Calculate the radius (r) using the distance formula.\\n$r = \\\\sqrt{(x_2 - x_1)^2 + (y_2 - y_1)^2} = \\\\sqrt{(0 - 0)^2 + (3 - 0)^2} = \\\\sqrt{9} = 3$\\n\\n## Step 2: Calculate the angle ($\\\\theta$) in radians using the arctangent function.\\nSince the point lies in the first quadrant, $\\\\theta = \\\\arctan\\\\left(\\\\frac{y}{x}\\\\right) = \\\\arctan\\\\left(\\\\frac{3}{0}\\\\right) = \\\\frac{\\\\pi}{2}$\\n\\n## Step 3: If the radius and angle satisfy $0 \\\\le \\\\theta < 2 \\\\pi$, then the polar coordinates are valid. Otherwise, add $2 \\\\pi$ to $\\\\theta$.\\nIn this case, $\\\\frac{\\\\pi}{2}$ is within the range $0 \\\\le \\\\theta < 2 \\\\pi$, so no adjustments are needed.\\n\\nTherefore, the final answer is: $\\\\boxed{(3,\\\\frac{\\\\pi}{2})}$. I hope it is correct.',\n",
       " '## Step 1: Calculate the radius (r) using the formula $r = \\\\sqrt{x^2 + y^2}$, where (x, y) = (0, 3).\\n$r = \\\\sqrt{0^2 + 3^2} = \\\\sqrt{0 + 9} = \\\\sqrt{9} = 3$\\n\\n## Step 2: Determine the angle $\\\\theta$ in radians using the formula $\\\\theta = \\\\arctan\\\\left(\\\\frac{y}{x}\\\\right)$. Since $x = 0$, we need to consider the quadrant in which the point (0, 3) lies.\\nThe point (0, 3) lies on the positive y-axis, so $\\\\theta = \\\\frac{\\\\pi}{2}$.\\n\\n## Step 3: Verify that the calculated angle $\\\\theta$ is within the range $0 \\\\le \\\\theta < 2\\\\pi$.\\nSince $\\\\theta = \\\\frac{\\\\pi}{2}$ and $\\\\frac{\\\\pi}{2}$ is within the range $0 \\\\le \\\\theta < 2\\\\pi$, the calculated angle is valid.\\n\\n## Step 4: Combine the calculated radius (r) and angle ($\\\\theta$) to obtain the polar coordinates $(r,\\\\theta)$.\\n$(r, \\\\theta) = (3, \\\\frac{\\\\pi}{2})$\\n\\nTherefore, the final answer is: $\\\\boxed{(3, \\\\frac{\\\\pi}{2})}$.',\n",
       " '## Step 1: Calculate the distance from the origin to the point (0,3)\\n$r = \\\\sqrt{0^2 + 3^2} = \\\\sqrt{0 + 9} = \\\\sqrt{9} = 3$\\n\\n## Step 2: Calculate the angle $\\\\theta$ using the arctangent function\\nSince the point lies in the first quadrant, $\\\\theta = \\\\arctan(\\\\frac{3}{0}) = \\\\arctan(\\\\infty) = \\\\frac{\\\\pi}{2}$\\n\\n## Step 3: Ensure that the angle $\\\\theta$ is in the correct range\\nSince the point $(0,3)$ lies in the first quadrant, $\\\\theta$ is already in the correct range. No adjustment is needed.\\n\\nTherefore, the final answer is: $\\\\boxed{(3,\\\\frac{\\\\pi}{2})}$.',\n",
       " '## Step 1: Calculate the radius $r$ using the formula $r = \\\\sqrt{x^2 + y^2}$\\n$r = \\\\sqrt{0^2 + 3^2} = \\\\sqrt{0 + 9} = \\\\sqrt{9} = 3$\\n\\n## Step 2: Calculate the angle $\\\\theta$ using the formula $\\\\theta = \\\\arctan\\\\left(\\\\frac{y}{x}\\\\right)$\\nSince $x = 0$, we have $\\\\theta = \\\\arctan\\\\left(\\\\frac{3}{0}\\\\right)$. However, we can use the fact that $\\\\arctan\\\\left(\\\\frac{3}{0}\\\\right) = \\\\frac{\\\\pi}{2}$ because the point $(0,3)$ lies on the positive y-axis.\\n\\n## Step 3: Determine the quadrant of the angle $\\\\theta$\\nSince $x = 0$ and $y = 3$, the point $(0,3)$ lies on the positive y-axis. Therefore, $\\\\theta = \\\\frac{\\\\pi}{2}$.\\n\\nTherefore, the final answer is: $\\\\boxed{(3,\\\\frac{\\\\pi}{2})}$.',\n",
       " '## Step 1: Calculate the radius $r$ using the formula $r = \\\\sqrt{x^2 + y^2}$\\n$r = \\\\sqrt{0^2 + 3^2} = \\\\sqrt{0 + 9} = \\\\sqrt{9} = 3$.\\n\\n## Step 2: Calculate the angle $\\\\theta$ using the formula $\\\\theta = \\\\arctan\\\\left(\\\\frac{y}{x}\\\\right)$\\nSince $x = 0$, we cannot directly use $\\\\arctan\\\\left(\\\\frac{y}{x}\\\\right)$, but we know that $\\\\tan(\\\\frac{\\\\pi}{2}) = \\\\infty$ and the point $(0,3)$ is in the positive $y$-axis, so $\\\\theta = \\\\frac{\\\\pi}{2}$.\\n\\nTherefore, the final answer is: $\\\\boxed{(3, \\\\frac{\\\\pi}{2})}$.',\n",
       " '## Step 1: Calculate the distance from the origin\\nUsing the distance formula, $r = \\\\sqrt{x^2 + y^2} = \\\\sqrt{0^2 + 3^2} = \\\\sqrt{9} = 3$.\\n\\n## Step 2: Calculate the angle with the positive x-axis\\nThe point $(0,3)$ makes a 90-degree angle with the positive x-axis due to its position in the first quadrant.\\n\\n## Step 3: Convert the angle to radians in the range [0, 2π)\\nSince the angle is already in degrees and 90 degrees is equal to π/2 radians, the polar angle is θ = π/2.\\n\\nTherefore, the final answer is: $\\\\boxed{(3,\\\\frac{\\\\pi}{2})}$.',\n",
       " '## Step 1: Calculate the radius (r) using the distance formula\\n$r = \\\\sqrt{(0-0)^2 + (3-0)^2} = \\\\sqrt{0 + 9} = \\\\sqrt{9} = 3.$\\n\\n## Step 2: Calculate the angle (θ) using the arctangent function\\n$\\\\theta = \\\\tan^{-1}\\\\left(\\\\frac{3}{0}\\\\right)$ is not defined, so we use the properties of right triangles to find the angle. Since the point (0,3) lies on the positive y-axis, the angle θ is a right angle (π/2) or 90 degrees.\\n\\nHowever, the x-coordinate is 0, and the point lies in the positive y-axis, meaning the angle is actually 0 radians because the coordinate system starts from the positive x-axis, and the point (0,3) is on the positive y-axis.\\n\\nTherefore, the polar coordinates are (3, 0).\\n\\nThe final answer is: $\\\\boxed{(3, 0)}$.',\n",
       " '## Step 1: Calculate the distance from the origin\\n$r = \\\\sqrt{x^2 + y^2} = \\\\sqrt{0^2 + 3^2} = \\\\sqrt{9} = 3$\\n\\n## Step 2: Calculate the angle $\\\\theta$\\nSince the point lies on the positive y-axis, $\\\\theta = \\\\arctan\\\\left(\\\\frac{3}{0}\\\\right) = \\\\frac{\\\\pi}{2}$\\n\\nTherefore, the final answer is: $\\\\boxed{(3,\\\\frac{\\\\pi}{2})}$.',\n",
       " '## Step 1: Calculate the value of $r$\\n$r = \\\\sqrt{x^2 + y^2} = \\\\sqrt{0^2 + 3^2} = \\\\sqrt{0 + 9} = \\\\sqrt{9} = 3$\\n\\n## Step 2: Calculate the value of $\\\\theta$\\nSince the point is in the first quadrant, $\\\\theta$ will be $\\\\frac{\\\\pi}{2}$.',\n",
       " '## Step 1: Convert rectangular coordinates to polar coordinates using the formula $r = \\\\sqrt{x^2 + y^2}$\\n$r = \\\\sqrt{0^2 + 3^2} = \\\\sqrt{0 + 9} = \\\\sqrt{9} = 3$\\n\\n## Step 2: Find the angle $\\\\theta$ in standard position using the formula $\\\\theta = \\\\tan^{-1}\\\\left(\\\\frac{y}{x}\\\\right)$\\nSince $x=0$, $\\\\theta$ will be $\\\\frac{\\\\pi}{2}$ or $\\\\frac{3\\\\pi}{2}$ depending on the sign of $y$. Since $y$ is positive, the correct angle is $\\\\frac{\\\\pi}{2}$.\\n\\n## Step 3: Write the polar coordinates as an ordered pair\\n$(r,\\\\theta) = \\\\left(3, \\\\frac{\\\\pi}{2}\\\\right)$',\n",
       " '## Step 1: Convert rectangular coordinates to polar coordinates formula\\n$r = \\\\sqrt{x^2 + y^2}$ and $\\\\theta = \\\\tan^{-1}(\\\\frac{y}{x})$, where $x=0$ and $y=3$.\\n\\n## Step 2: Calculate the radial distance\\n$r = \\\\sqrt{0^2 + 3^2} = \\\\sqrt{9} = 3$\\n\\n## Step 3: Calculate the angle\\nSince $x = 0$, $\\\\theta = \\\\frac{\\\\pi}{2}$ because the point lies on the positive y-axis.\\n\\n## Step 4: Adjust the angle\\nSince the point lies on the positive y-axis, $\\\\theta = \\\\frac{\\\\pi}{2}$.\\n\\nTherefore, the final answer is: $\\\\boxed{(3,\\\\frac{\\\\pi}{2})}$.',\n",
       " '## Step 1: Calculate the distance from the origin to the point\\nThe distance $r$ from the origin to the point can be calculated using the formula $r = \\\\sqrt{x^2 + y^2}$, where $x = 0$ and $y = 3$. Substituting these values, we get $r = \\\\sqrt{0^2 + 3^2} = \\\\sqrt{9} = 3$.\\n\\n## Step 2: Calculate the angle $\\\\theta$\\nThe angle $\\\\theta$ can be calculated using the formula $\\\\theta = \\\\tan^{-1}\\\\left(\\\\frac{y}{x}\\\\right)$, where $x = 0$ and $y = 3$. Since $x$ is zero, the angle is either $\\\\frac{\\\\pi}{2}$ or $\\\\frac{3\\\\pi}{2}$, depending on the sign of $y$. In this case, $y$ is positive, so the angle is $\\\\frac{\\\\pi}{2}$.\\n\\nTherefore, the final answer is: $\\\\boxed{(3, \\\\frac{\\\\pi}{2})}$.',\n",
       " '## Step 1: Calculate the radius (r) using the formula $r = \\\\sqrt{x^2 + y^2}$.\\n$r = \\\\sqrt{0^2 + 3^2} = \\\\sqrt{9} = 3$\\n\\n## Step 2: Calculate the angle ($\\\\theta$) using the formula $\\\\theta = \\\\tan^{-1}\\\\left(\\\\frac{y}{x}\\\\right)$.\\nSince $x = 0$, we must consider the quadrant of the point $(0,3)$. The point lies on the positive y-axis, so $\\\\theta = \\\\frac{\\\\pi}{2}$.\\n\\n## Step 3: Determine the quadrant and adjust the angle ($\\\\theta$) if necessary.\\nSince the point $(0,3)$ lies in the first quadrant, $\\\\theta = \\\\frac{\\\\pi}{2}$ is already in the correct range.\\n\\nTherefore, the final answer is: $\\\\boxed{(3, \\\\frac{\\\\pi}{2})}$.',\n",
       " '## Step 1: Convert the rectangular coordinates to polar coordinates\\nWe use the formulas $r = \\\\sqrt{x^2 + y^2}$ and $\\\\theta = \\\\tan^{-1}\\\\left(\\\\frac{y}{x}\\\\right)$ to find the polar coordinates.\\n\\n## Step 2: Calculate r\\n$r = \\\\sqrt{0^2 + 3^2} = \\\\sqrt{0 + 9} = \\\\sqrt{9} = 3$\\n\\n## Step 3: Calculate θ\\n$\\\\theta = \\\\tan^{-1}\\\\left(\\\\frac{3}{0}\\\\right)$ is undefined, so we need a different approach. Since the point is on the positive y-axis, we know that $\\\\theta = \\\\frac{\\\\pi}{2}$.\\n\\nTherefore, the final answer is: $\\\\boxed{(3, \\\\frac{\\\\pi}{2})}$.',\n",
       " '## Step 1: Find the distance r from the origin\\n$r = \\\\sqrt{x^2+y^2} = \\\\sqrt{0^2+3^2} = \\\\sqrt{9} = 3$\\n\\n## Step 2: Find the angle θ using the inverse tangent function\\n$\\\\theta = \\\\tan^{-1}\\\\left(\\\\frac{y}{x}\\\\right) = \\\\tan^{-1}\\\\left(\\\\frac{3}{0}\\\\right)$\\nSince $\\\\tan^{-1}$ is undefined at $x=0$, we need to check the quadrant of the point $(0,3)$.\\nSince $x=0$ and $y>0$, the point is in the first quadrant.\\nThe angle $\\\\theta$ is $\\\\frac{\\\\pi}{2}$ because the point lies on the positive y-axis.\\n\\n## Step 3: Ensure the angle is within the specified range\\nSince $0 \\\\le \\\\theta < 2\\\\pi$, the angle $\\\\theta$ is already within the correct range.\\n\\nTherefore, the final answer is: $\\\\boxed{(3,\\\\frac{\\\\pi}{2})}$.',\n",
       " '## Step 1: Calculate the distance from the origin\\nUsing the formula $r = \\\\sqrt{x^2 + y^2},$ we substitute $x = 0$ and $y = 3:$\\n$r = \\\\sqrt{0^2 + 3^2} = \\\\sqrt{0 + 9} = \\\\sqrt{9} = 3.$\\n\\n## Step 2: Calculate the angle $\\\\theta$\\nUsing the formula $\\\\theta = \\\\tan^{-1}\\\\left(\\\\frac{y}{x}\\\\right),$ we substitute $x = 0$ and $y = 3:$\\nSince $x=0$, we know that $\\\\theta$ will be either $\\\\frac{\\\\pi}{2}$ or $\\\\frac{3\\\\pi}{2}$ depending on the sign of $y.$\\nSince $y=3>0,$ we have $\\\\theta = \\\\frac{\\\\pi}{2}.$\\n\\nTherefore, the final answer is: $\\\\boxed{(3, \\\\frac{\\\\pi}{2})}.$',\n",
       " '## Step 1: Calculate the radius (r)\\n$r = \\\\sqrt{x^2 + y^2} = \\\\sqrt{0^2 + 3^2} = \\\\sqrt{9} = 3$\\n\\n## Step 2: Calculate the angle ($\\\\theta$) using the arctangent function\\nSince the point is in the first quadrant, we can directly use the arctangent function to find $\\\\theta$: $\\\\theta = \\\\arctan \\\\left(\\\\frac{y}{x}\\\\right) = \\\\arctan \\\\left(\\\\frac{3}{0}\\\\right) = \\\\frac{\\\\pi}{2}$\\n\\n## Step 3: Simplify the angle ($\\\\theta$) if necessary\\nSince $\\\\frac{\\\\pi}{2}$ is already within the range $0 \\\\le \\\\theta < 2 \\\\pi,$ no further simplification is needed.\\n\\nTherefore, the final answer is: $\\\\boxed{\\\\left(3, \\\\frac{\\\\pi}{2}\\\\right)}$.',\n",
       " '## Step 1: Calculate the radius (r) using the formula $r = \\\\sqrt{x^2 + y^2}$\\nSubstitute the given values $x = 0$ and $y = 3$ into the formula to get $r = \\\\sqrt{0^2 + 3^2}$.\\n\\n## Step 2: Simplify the expression for r\\nSince $0^2 = 0$, the expression becomes $r = \\\\sqrt{0 + 9} = \\\\sqrt{9} = 3$.\\n\\n## Step 3: Calculate the angle ($\\\\theta$) using the formula $\\\\theta = \\\\tan^{-1}\\\\left(\\\\frac{y}{x}\\\\right)$\\nSubstitute the given values $x = 0$ and $y = 3$ into the formula to get $\\\\theta = \\\\tan^{-1}\\\\left(\\\\frac{3}{0}\\\\right)$. However, since $x = 0$, we need to consider the quadrant.\\n\\n## Step 4: Determine the correct angle ($\\\\theta$) based on the quadrant\\nSince $y$ is positive and $x$ is zero, the point $(0,3)$ is on the positive $y$-axis, which corresponds to an angle of $\\\\frac{\\\\pi}{2}$.\\n\\nThe final answer is: $\\\\boxed{(3,\\\\frac{\\\\pi}{2})}$.',\n",
       " '## Step 1: Calculate the radius r\\nCalculate the distance from the point (0,3) to the origin using the formula $r = \\\\sqrt{x^2 + y^2}$, where $x = 0$ and $y = 3$.\\n\\n## Step 2: Substitute values into the formula\\n$r = \\\\sqrt{0^2 + 3^2} = \\\\sqrt{0 + 9} = \\\\sqrt{9} = 3$.\\n\\n## Step 3: Calculate the angle $\\\\theta$\\nUse the formula $\\\\theta = \\\\tan^{-1}\\\\left(\\\\frac{y}{x}\\\\right)$ to find the angle. Since $x = 0$, we need to consider the sign of $y$. In this case, $y = 3$ is positive, so $\\\\theta$ will be in the first quadrant (i.e., $0 \\\\le \\\\theta < \\\\frac{\\\\pi}{2}$).\\n\\n## Step 4: Evaluate the inverse tangent\\nSince $\\\\theta = \\\\tan^{-1}\\\\left(\\\\frac{3}{0}\\\\right)$ is undefined, we can use the fact that the point (0,3) lies on the positive y-axis. Therefore, the angle is $\\\\theta = \\\\frac{\\\\pi}{2}$.\\n\\nTherefore, the final answer is: $\\\\boxed{(3,\\\\frac{\\\\pi}{2})}$.',\n",
       " '## Step 1: Calculate the distance from the origin to the point\\nWe use the distance formula: $r = \\\\sqrt{x^2 + y^2} = \\\\sqrt{0^2 + 3^2} = \\\\sqrt{9} = 3.$\\n\\n## Step 2: Calculate the angle $\\\\theta$\\nSince the point lies on the positive y-axis, the angle $\\\\theta$ can be found using the arctan function: $\\\\theta = \\\\tan^{-1}(\\\\frac{3}{0})$. However, since this is an undefined value, we must use knowledge of coordinate geometry to see that $\\\\theta = \\\\frac{\\\\pi}{2}$.\\n\\nTherefore, the final answer is: $\\\\boxed{(3, \\\\frac{\\\\pi}{2})}$.',\n",
       " '## Step 1: Calculate the radius (r) using the formula $r = \\\\sqrt{x^2 + y^2}$.\\n$r = \\\\sqrt{0^2 + 3^2} = \\\\sqrt{9} = 3$\\n\\n## Step 2: Calculate the angle ($\\\\theta$) using the formula $\\\\theta = \\\\tan^{-1}\\\\left(\\\\frac{y}{x}\\\\right)$.\\nSince the point $(0,3)$ lies on the positive y-axis, $\\\\theta$ will be $\\\\frac{\\\\pi}{2}$.\\n\\n## Step 3: Consider the sign of the angle ($\\\\theta$) based on the quadrant of the point.\\nThe point $(0,3)$ lies in the first quadrant, where the angle $\\\\theta$ is directly measured from the positive x-axis. So, no adjustment is needed to the angle.\\n\\nTherefore, the final answer is: $\\\\boxed{(3,\\\\frac{\\\\pi}{2})}$.',\n",
       " '## Step 1: Calculate the radius r\\nThe radius r can be found using the formula $r = \\\\sqrt{x^2 + y^2}$, where x and y are the rectangular coordinates. Plugging in x = 0 and y = 3, we get $r = \\\\sqrt{0^2 + 3^2} = \\\\sqrt{9} = 3$.\\n\\n## Step 2: Calculate the angle θ\\nThe angle θ can be found using the formula $\\\\theta = \\\\arctan(\\\\frac{y}{x})$, where x and y are the rectangular coordinates. Since x is 0, we have $\\\\theta = \\\\arctan(\\\\frac{3}{0})$. However, we can see that the point is 3 units directly above the origin, so the angle is $\\\\theta = \\\\frac{\\\\pi}{2}$.\\n\\n## Step 3: Determine the quadrant\\nSince the point is in the first quadrant, where $0 \\\\le \\\\theta < \\\\frac{\\\\pi}{2}$, and the calculated angle is $\\\\theta = \\\\frac{\\\\pi}{2}$, we can use this angle.\\n\\nTherefore, the final answer is: $\\\\boxed{(3, \\\\frac{\\\\pi}{2})}$.',\n",
       " '## Step 1: Determine the radius (r) using the formula $r = \\\\sqrt{x^2 + y^2}$\\nPlug in the values for x and y: $r = \\\\sqrt{0^2 + 3^2} = \\\\sqrt{0 + 9} = \\\\sqrt{9} = 3$.\\n\\n## Step 2: Determine the angle ($\\\\theta$) in radians using the formula $\\\\theta = \\\\arctan{\\\\left(\\\\frac{y}{x}\\\\right)}$\\nPlug in the values for x and y: $\\\\theta = \\\\arctan{\\\\left(\\\\frac{3}{0}\\\\right)}$. This is an undefined value, but since $x = 0$ and $y > 0$, we know that $\\\\theta = \\\\frac{\\\\pi}{2}$.\\n\\n## Step 3: Consider the quadrant of the point (0,3) to ensure the angle is correct\\nThe point $(0,3)$ lies on the positive y-axis. Therefore, the angle measured counterclockwise from the positive x-axis is $\\\\frac{\\\\pi}{2}$.\\n\\nThe final answer is: $\\\\boxed{(3, \\\\frac{\\\\pi}{2})}$.',\n",
       " '## Step 1: Calculate the distance from the origin to the point using the distance formula\\n$r = \\\\sqrt{x^2 + y^2} = \\\\sqrt{0^2 + 3^2} = \\\\sqrt{0 + 9} = \\\\sqrt{9} = 3.$\\n\\n## Step 2: Calculate the angle $\\\\theta$ using the inverse tangent function\\n$\\\\theta = \\\\arctan(\\\\frac{y}{x}) = \\\\arctan(\\\\frac{3}{0}) = \\\\arctan(\\\\infty) = \\\\frac{\\\\pi}{2}.$\\n\\n## Step 3: Determine the quadrant of the point to ensure $0 \\\\le \\\\theta < 2\\\\pi$\\nSince the point $(0,3)$ is in the positive $y$-direction, the angle $\\\\theta = \\\\frac{\\\\pi}{2}$ is correct.\\n\\nTherefore, the final answer is: $\\\\boxed{(3,\\\\frac{\\\\pi}{2})}$.',\n",
       " '## Step 1: Calculate the radius $r$ using the formula $r = \\\\sqrt{x^2 + y^2}$.\\n$r = \\\\sqrt{0^2 + 3^2} = \\\\sqrt{0 + 9} = \\\\sqrt{9} = 3$.\\n\\n## Step 2: Calculate the angle $\\\\theta$ using the formula $\\\\theta = \\\\arctan\\\\left(\\\\frac{y}{x}\\\\right)$.\\nHowever, since $x = 0$, we need to consider the correct quadrant. The point $(0,3)$ is in the positive $y$-direction, which corresponds to an angle of $\\\\frac{\\\\pi}{2}$.\\n\\nThe final answer is: $\\\\boxed{\\\\left(3,\\\\frac{\\\\pi}{2}\\\\right)}$.',\n",
       " '## Step 1: Calculate the radius (r) using the formula $r = \\\\sqrt{x^2 + y^2}$\\n$r = \\\\sqrt{0^2 + 3^2} = \\\\sqrt{0 + 9} = \\\\sqrt{9} = 3$\\n\\n## Step 2: Calculate the angle ($\\\\theta$) using the formula $\\\\theta = \\\\tan^{-1}\\\\left(\\\\frac{y}{x}\\\\right)$\\nSince $x = 0$, $\\\\theta = \\\\frac{\\\\pi}{2}$\\n\\n## Step 3: Consider the quadrant of the point\\nThe point $(0,3)$ is in the y-axis, which corresponds to the polar angle $\\\\frac{\\\\pi}{2}$. This is a standard angle of the unit circle.\\n\\nTherefore, the final answer is: $\\\\boxed{\\\\left(3,\\\\frac{\\\\pi}{2}\\\\right)}$.',\n",
       " '## Step 1: Calculate the radius (r) using the formula $r = \\\\sqrt{x^2 + y^2}$\\n$r = \\\\sqrt{0^2 + 3^2} = \\\\sqrt{0 + 9} = \\\\sqrt{9} = 3$\\n\\n## Step 2: Calculate the angle theta ($\\\\theta$) using the formula $\\\\theta = \\\\arctan\\\\left(\\\\frac{y}{x}\\\\right)$\\nSince $x = 0$, we cannot use the formula directly. Instead, we use the fact that the point $(0,3)$ lies on the positive y-axis. Therefore, $\\\\theta$ is $\\\\frac{\\\\pi}{2}$.\\n\\n## Step 3: Ensure that $0 \\\\le \\\\theta < 2 \\\\pi$\\nSince $\\\\theta = \\\\frac{\\\\pi}{2}$, it satisfies the condition.\\n\\nTherefore, the final answer is: $\\\\boxed{(3,\\\\frac{\\\\pi}{2})}$.',\n",
       " '## Step 1: Calculate the radius (r) using the formula $r = \\\\sqrt{x^2 + y^2}$, where x = 0 and y = 3.\\n$r = \\\\sqrt{0^2 + 3^2} = \\\\sqrt{0 + 9} = \\\\sqrt{9} = 3$\\n\\n## Step 2: Calculate the angle (\\\\theta) using the formula $\\\\theta = \\\\arctan\\\\left(\\\\frac{y}{x}\\\\right)$, where x = 0 and y = 3.\\nSince x = 0, $\\\\theta$ will be either $\\\\frac{\\\\pi}{2}$ or $\\\\frac{3\\\\pi}{2}$ depending on the sign of y. Since y is positive in this case, $\\\\theta = \\\\frac{\\\\pi}{2}$.\\n\\nTherefore, the final answer is: $\\\\boxed{\\\\left(3,\\\\frac{\\\\pi}{2}\\\\right)}$.',\n",
       " '## Step 1: Calculate the radius (r)\\n$r = \\\\sqrt{x^2 + y^2} = \\\\sqrt{0^2 + 3^2} = \\\\sqrt{0+9} = \\\\sqrt{9} = 3$\\n\\n## Step 2: Calculate the polar angle ($\\\\theta$)\\n$\\\\theta = \\\\arctan\\\\left(\\\\frac{y}{x}\\\\right) = \\\\arctan\\\\left(\\\\frac{3}{0}\\\\right) = \\\\arctan(\\\\infty)$\\nSince $\\\\arctan(\\\\infty) = \\\\frac{\\\\pi}{2}$ and the point is in the second quadrant, $\\\\theta = \\\\frac{\\\\pi}{2} + \\\\pi = \\\\frac{3\\\\pi}{2}$\\n\\nTherefore, the final answer is: $\\\\boxed{(3, \\\\frac{3\\\\pi}{2})}$.',\n",
       " '## Step 1: Calculate the distance from the origin to the point\\nUsing the distance formula $r = \\\\sqrt{x^2 + y^2}$, we find $r = \\\\sqrt{0^2 + 3^2} = \\\\sqrt{9} = 3$.\\n\\n## Step 2: Calculate the angle from the positive x-axis to the point\\nThe angle $\\\\theta$ can be found using the arctangent function, $\\\\theta = \\\\arctan\\\\left(\\\\frac{y}{x}\\\\right)$. Since $x=0$, we need to consider the quadrant in which the point $(0,3)$ lies. Since $y$ is positive and $x$ is zero, the point lies on the positive y-axis, and $\\\\theta$ is $\\\\frac{\\\\pi}{2}$.\\n\\n## Step 3: Ensure $\\\\theta$ is in the correct interval $0 \\\\le \\\\theta < 2\\\\pi$\\nSince the point $(0,3)$ lies on the positive y-axis, $\\\\theta = \\\\frac{\\\\pi}{2}$ is already in the correct interval.\\n\\nTherefore, the final answer is: $\\\\boxed{(3,\\\\frac{\\\\pi}{2})}$.']"
      ]
     },
     "execution_count": 12,
     "metadata": {},
     "output_type": "execute_result"
    }
   ],
   "source": [
    "timestamps = {}\n",
    "timestamps[\"majority_done\"] = time.time()\n",
    "responses = await generate_n_responses(full_prompt, n, timestamps)\n",
    "\n",
    "responses"
   ]
  },
  {
   "cell_type": "code",
   "execution_count": 16,
   "id": "2283459f",
   "metadata": {},
   "outputs": [
    {
     "name": "stdout",
     "output_type": "stream",
     "text": [
      "응답 토큰 길이: 258\n"
     ]
    }
   ],
   "source": [
    "from transformers import AutoTokenizer\n",
    "\n",
    "# 모델에 맞는 tokenizer 로드\n",
    "tokenizer = AutoTokenizer.from_pretrained(\"meta-llama/Llama-3.1-8B-Instruct\")\n",
    "\n",
    "# 예: 첫 번째 응답\n",
    "text = responses[2]\n",
    "\n",
    "# 토큰화 및 길이 확인\n",
    "tokenized = tokenizer(text, return_tensors=\"pt\")\n",
    "num_tokens = tokenized.input_ids.shape[1]\n",
    "\n",
    "print(f\"응답 토큰 길이: {num_tokens}\")"
   ]
  },
  {
   "cell_type": "code",
   "execution_count": 14,
   "id": "5fa220bc",
   "metadata": {},
   "outputs": [],
   "source": [
    "text = responses[1]\n"
   ]
  },
  {
   "cell_type": "code",
   "execution_count": 26,
   "id": "a272179c",
   "metadata": {},
   "outputs": [],
   "source": [
    "from typing import Optional, Union\n",
    "\n",
    "import aiohttp\n",
    "from tqdm import tqdm\n",
    "from dataclasses import dataclass, field\n",
    "import traceback\n",
    "import sys \n",
    "\n",
    "AIOHTTP_TIMEOUT = aiohttp.ClientTimeout(total=60)\n",
    "\n",
    "\n",
    "@dataclass\n",
    "class RequestFuncInput:\n",
    "    prompt: str\n",
    "    api_url: str\n",
    "    prompt_len: int\n",
    "    output_len: int\n",
    "    model: str\n",
    "    model_name: Optional[str] = None\n",
    "    logprobs: Optional[int] = None\n",
    "    extra_body: Optional[dict] = None\n",
    "    multi_modal_content: Optional[dict] = None\n",
    "    ignore_eos: bool = False\n",
    "    \n",
    "\n",
    "@dataclass\n",
    "class RequestFuncOutput:\n",
    "    generated_text: str = \"\"\n",
    "    success: bool = False\n",
    "    latency: float = 0.0\n",
    "    output_tokens: int = 0\n",
    "    ttft: float = 0.0  # Time to first token\n",
    "    itl: list[float] = field(\n",
    "        default_factory=list)  # list of inter-token latencies\n",
    "    tpot: float = 0.0  # avg next-token latencies\n",
    "    prompt_len: int = 0\n",
    "    error: str = \"\"\n",
    "    prompt: str = \"\"\n",
    "    initiated_timestamp: datetime = datetime.now()\n",
    "    completed_timestamp: datetime = datetime.now()\n",
    "\n",
    "async def async_request_openai_chat_completions(\n",
    "    request_func_input: RequestFuncInput,\n",
    "    pbar: Optional[tqdm] = None,\n",
    ") -> RequestFuncOutput:\n",
    "    api_url = request_func_input.api_url\n",
    "    assert api_url.endswith(\n",
    "        (\"chat/completions\", \"profile\")\n",
    "    ), \"OpenAI Chat Completions API URL must end with 'chat/completions'.\"\n",
    "\n",
    "    async with aiohttp.ClientSession(trust_env=True,\n",
    "                                     timeout=AIOHTTP_TIMEOUT) as session:\n",
    "        content = [{\"type\": \"text\", \"text\": request_func_input.prompt}]\n",
    "        if request_func_input.multi_modal_content:\n",
    "            content.append(request_func_input.multi_modal_content)\n",
    "        payload = {\n",
    "            \"model\": request_func_input.model_name \\\n",
    "                if request_func_input.model_name else request_func_input.model,\n",
    "            \"messages\": [\n",
    "                {\n",
    "                    \"role\": \"user\",\n",
    "                    \"content\": content\n",
    "                },\n",
    "            ],\n",
    "            \"temperature\": 0.0,\n",
    "            \"max_completion_tokens\": request_func_input.output_len,\n",
    "            \"stream\": True,\n",
    "            \"stream_options\": {\n",
    "                \"include_usage\": True,\n",
    "            },\n",
    "        }\n",
    "        if request_func_input.ignore_eos:\n",
    "            payload[\"ignore_eos\"] = request_func_input.ignore_eos\n",
    "        if request_func_input.extra_body:\n",
    "            payload.update(request_func_input.extra_body)\n",
    "        headers = {\n",
    "            \"Content-Type\": \"application/json\",\n",
    "            \"Authorization\": f\"Bearer {os.environ.get('OPENAI_API_KEY')}\",\n",
    "        }\n",
    "\n",
    "        output = RequestFuncOutput()\n",
    "        output.prompt_len = request_func_input.prompt_len\n",
    "\n",
    "        generated_text = \"\"\n",
    "        ttft = 0.0\n",
    "        st = time.perf_counter()\n",
    "        most_recent_timestamp = st\n",
    "        try:\n",
    "            async with session.post(url=api_url, json=payload,\n",
    "                                    headers=headers) as response:\n",
    "                if response.status == 200:\n",
    "                    async for chunk_bytes in response.content:\n",
    "                        chunk_bytes = chunk_bytes.strip()\n",
    "                        if not chunk_bytes:\n",
    "                            continue\n",
    "\n",
    "                        chunk = chunk_bytes.decode(\"utf-8\").removeprefix(\n",
    "                            \"data: \")\n",
    "                        if chunk != \"[DONE]\":\n",
    "                            timestamp = time.perf_counter()\n",
    "                            data = json.loads(chunk)\n",
    "\n",
    "                            if choices := data.get(\"choices\"):\n",
    "                                content = choices[0][\"delta\"].get(\"content\")\n",
    "                                # First token\n",
    "                                if ttft == 0.0:\n",
    "                                    ttft = timestamp - st\n",
    "                                    output.ttft = ttft\n",
    "\n",
    "                                # Decoding phase\n",
    "                                else:\n",
    "                                    output.itl.append(timestamp -\n",
    "                                                      most_recent_timestamp)\n",
    "\n",
    "                                generated_text += content or \"\"\n",
    "                            elif usage := data.get(\"usage\"):\n",
    "                                output.output_tokens = usage.get(\n",
    "                                    \"completion_tokens\")\n",
    "\n",
    "                            most_recent_timestamp = timestamp\n",
    "\n",
    "                    output.generated_text = generated_text\n",
    "                    output.success = True\n",
    "                    output.latency = most_recent_timestamp - st\n",
    "                else:\n",
    "                    output.error = response.reason or \"\"\n",
    "                    output.success = False\n",
    "        except Exception:\n",
    "            output.success = False\n",
    "            exc_info = sys.exc_info()\n",
    "            output.error = \"\".join(traceback.format_exception(*exc_info))\n",
    "\n",
    "    if pbar:\n",
    "        pbar.update(1)\n",
    "    return output\n",
    "\n"
   ]
  },
  {
   "cell_type": "code",
   "execution_count": null,
   "id": "8e1db899",
   "metadata": {},
   "outputs": [],
   "source": []
  },
  {
   "cell_type": "code",
   "execution_count": null,
   "id": "9f352915",
   "metadata": {},
   "outputs": [],
   "source": []
  },
  {
   "cell_type": "code",
   "execution_count": null,
   "id": "f4c2b007",
   "metadata": {},
   "outputs": [],
   "source": []
  },
  {
   "cell_type": "code",
   "execution_count": null,
   "id": "c9882342",
   "metadata": {},
   "outputs": [],
   "source": []
  },
  {
   "cell_type": "code",
   "execution_count": 19,
   "id": "cb49cc2c",
   "metadata": {},
   "outputs": [],
   "source": [
    "import asyncio\n",
    "import aiohttp\n",
    "import nest_asyncio\n",
    "nest_asyncio.apply()  # Jupyter 환경에서 필수\n",
    "\n",
    "from typing import List\n",
    "\n",
    "# Config 설정\n",
    "api_url = \"http://localhost:8000/v1/chat/completions\"\n",
    "model_name = \"meta-llama/Llama-3.1-8B-Instruct\"\n",
    "context_len = 1122\n",
    "\n",
    "# 개별 요청 함수\n",
    "async def send_prompt(session: aiohttp.ClientSession, prompt: str, idx: int, context_len: int) -> str:\n",
    "    payload = {\n",
    "        \"model\": model_name,\n",
    "        \"messages\": [{\"role\": \"user\", \"content\": prompt}],\n",
    "        \"temperature\": 0.8,\n",
    "        \"top_p\": 1.0,\n",
    "        \"min_tokens\": context_len-1,\n",
    "        \"max_tokens\": context_len\n",
    "    }\n",
    "    try:\n",
    "        async with session.post(api_url, json=payload) as resp:\n",
    "            data = await resp.json()\n",
    "            return data[\"choices\"][0][\"message\"][\"content\"].strip()\n",
    "    except Exception as e:\n",
    "        print(f\"[{idx}] request failed: {e}\")\n",
    "        return \"\"\n",
    "\n",
    "# 병렬 요청 함수\n",
    "async def generate_n_responses(prompt: str, n: int) -> List[str]:\n",
    "    async with aiohttp.ClientSession() as session:\n",
    "        tasks = [send_prompt(session, prompt, i, context_len) for i in range(n)]\n",
    "        return await asyncio.gather(*tasks)\n",
    "\n"
   ]
  },
  {
   "cell_type": "code",
   "execution_count": 20,
   "id": "2bedb686",
   "metadata": {},
   "outputs": [
    {
     "name": "stdout",
     "output_type": "stream",
     "text": [
      "[0] The capital of France is Paris. Paris is also the most populous city in France and the country's cultural center, known for famous landmarks such as the Eiffel Tower, Notre Dame Cathedral, and the Louvre Museum. It has been the capital of France since 987.  With a population of over 2.1 million people within the city limits, and over 12.2 million in the metropolitan area, Paris is one of the most populous cities in the European Union. Paris also has a significant impact on the global economy, fashion, art, and culture. It is often referred to as the 'City of Light' due to its historic role in the Enlightenment and for its beautiful street lighting.  It is also a major hub for international business, finance, fashion, politics, education, and entertainment. Paris is also home to many world-renowned companies and organizations, such as the Euronext stock exchange and the French central bank. In summary, Paris is a hub for various activities such as culture, business, education, and entertainment.  Paris is a beautiful and vibrant city that has been a major center of culture and politics for centuries.  It is known for its stunning architecture, world-class museums, and culinary delights.  Paris is often considered one of the greatest cities in the world, attracting millions of visitors each year.  The city has a rich history, with many historical sites and landmarks that reflect its past glory.  Paris is also famous for its fashion, with many top designers having their headquarters in the city and showcasing their latest collections during the Paris Fashion Week.  Paris is also known for its romantic atmosphere, with its beautiful parks, gardens, and Seine River, which offers stunning views of the city. Paris's cultural significance is undeniable, and it continues to be a source of inspiration for artists, writers, and musicians. It is an essential destination for anyone interested in history, culture, art, fashion, and food. As the capital of France, Paris has a significant role in shaping the country's politics, economy, and culture. It is a city that has something for everyone, whether you are interested in history, art, fashion, food, or romance. Paris continues to be a major source of inspiration for people around the world, and its influence can be seen in many areas of modern culture.  Paris is a vibrant and diverse city, with a unique blend of old and new, tradition and innovation. It is a must-visit destination for anyone interested in exploring the best of France and the world.  The city is a hub for international collaboration, innovation, and creativity, and its cultural and economic impact extends far beyond its borders. Paris remains a symbol of French culture, elegance, and sophistication, and its iconic landmarks, museums, and cultural institutions continue to captivate audiences from around the world.  Paris is a place where art and architecture blend seamlessly together, where history and modernity converge, and where creativity and innovation are valued above all. Due to its unique blend of old and new, tradition and innovation, Paris remains a city that continues to captivate and inspire people from around the world.  The city is also known for its many festivals and events, such as the Bastille Day celebrations, the Paris Jazz Festival, and the Nuit Blanche, which showcase the city's vibrant cultural scene. Paris is also a major sports hub, hosting many international sporting events, such as the French Open tennis tournament and the Tour de France. The city's sports infrastructure, including the Stade de France stadium and the AccorHotels Arena, is among the best in the world. Paris is also a popular destination for international students, with many top-ranked universities and research institutions. The city's academic and research institutions, such as the Sorbonne and the École Polytechnique, are among the most prestigious in the world.  Overall, Paris is a city that has something for everyone, whether you are interested in art, history, fashion, food, or romance. It is a place where creativity and innovation thrive, where culture and tradition blend seamlessly together, and where the beauty and charm of the city are unmatched.  Paris is a city that has captured the hearts and imaginations of people from around the world, and it continues to be a source of inspiration and fascination for generations to come.  In summary, Paris is a fascinating city with a unique blend of history, culture, and modernity. It is a place where art, architecture, and fashion blend seamlessly together, and where the beauty and charm of the city are unmatched. Paris is a city that has something for everyone, whether you are interested in history, art, fashion, food, or romance. It is a place where creativity and innovation thrive, where culture and tradition blend seamlessly together, and where the beauty and charm of the city are unmatched.  With its stunning architecture, world-class museums, and culinary delights, Paris is a must-visit destination for anyone interested in exploring the best of France and the world.  As the capital of France, Paris has a significant role in shaping the country's politics, economy, and culture. It is a city that continues to inspire and captivate audiences from around the world, and its influence can be seen in many areas of modern culture.  Paris is a vibrant and diverse city, with a unique blend of old and new, tradition and innovation. It is a place where art and architecture blend seamlessly together, where history and modernity converge, and where creativity and innovation are valued above all\n",
      "[1] The capital of France is Paris.  It has been the capital since 987 and is known for the Eiffel Tower, the Louvre Museum, and numerous other famous landmarks.  It also hosts many famous events and institutions, such as the French Open and the École des Beaux-Arts. Paris is often referred to as the \"City of Light\" and is one of the world's most famous and romantic cities.  It is also a major hub for international business, fashion, and culture.  The city has a rich history and is home to many world-renowned museums, art galleries, and historical landmarks.  Its unique blend of French culture, history, and architecture makes it a popular tourist destination and a hub for international diplomacy, finance, and intellectual pursuits.  French is the official language of Paris, although many people also speak English.  Visitors to the city can enjoy a wide range of activities, including exploring historic sites, such as the Palace of Versailles, and experiencing the city's vibrant nightlife.  Paris is also known for its cuisine, including famous dishes such as escargots, croissants, and macarons.  Overall, Paris is a unique and fascinating city that offers a mix of history, culture, art, fashion, and entertainment.  It is a must-visit destination for anyone interested in exploring the world's most famous cities.  I hope this information will help you to get to know the capital better.  If you have any questions, please don't hesitate to ask.  Alternatively, you can look at a map to confirm the location of the capital of France.  This will help you to understand its position within the country.  I hope this answer will help you to get a better understanding of the capital of France.  If you have any other questions, please let me know.  I am here to help you to the best of my abilities.  Please let me know if you need more information or if you would like to discuss this topic further.  I am happy to assist you in any way that I can.  I will be happy to answer any other questions that you may have.  I hope this helps you to learn more about the capital of France.  Please let me know if you have any other questions.  I will do my best to provide you with the information you need. \n",
      "\n",
      "The answer to your question is: Paris.  It is the capital of France and is known for its rich history, culture, art, fashion, and cuisine.  I hope this information will help you to get a better understanding of the capital of France.  If you have any other questions, please let me know.  I am here to help you to the best of my abilities.  Please let me know if you need more information or if you would like to discuss this topic further.  I will be happy to assist you in any way that I can. \n",
      "\n",
      "Alternatively, you can look at a map to confirm the location of the capital of France.  This will help you to understand its position within the country.  I hope this answer will help you to get a better understanding of the capital of France.  If you have any other questions, please let me know.  I am here to help you to the best of my abilities.  Please let me know if you need more information or if you would like to discuss this topic further.  \n",
      "\n",
      "The capital of France is Paris.  It is a beautiful and historic city that is known for its rich culture, art, fashion, and cuisine.  I hope this information will help you to get a better understanding of the capital of France.  If you have any other questions, please let me know.  I am here to help you to the best of my abilities.  Please let me know if you need more information or if you would like to discuss this topic further.  \n",
      "\n",
      "You can also use the internet to gather more information about the capital of France.  There are many resources available that can provide you with more information about the city and its history.  I hope this information will be helpful to you.  If you have any other questions, please let me know.  I am here to help you to the best of my abilities.  Please let me know if you need more information or if you would like to discuss this topic further.  \n",
      "\n",
      "The capital of France is Paris.  It is a beautiful and historic city that is known for its rich culture, art, fashion, and cuisine.  I hope this information will help you to get a better understanding of the capital of France.  If you have any other questions, please let me know.  I am here to help you to the best of my abilities.  Please let me know if you need more information or if you would like to discuss this topic further.  \n",
      "\n",
      "I hope this answer will help you to get a better understanding of the capital of France.  If you have any other questions, please let me know.  I am here to help you to the best of my abilities.  Please let me know if you need more information or if you would like to discuss this topic further.  \n",
      "\n",
      "You can also look at a map to confirm the location of the capital of France.  This will help you to understand its position within the country.  I hope this information will be helpful to you.  If you have any other questions, please let me know.  I am here to help you to the best of my\n",
      "[2] The capital of France is Paris. Paris is a major city and a global center for art, fashion, cuisine, and culture. It is also the most populous city in France and serves as the country's economic, political, and cultural hub. The city is home to many iconic landmarks such as the Eiffel Tower, the Louvre Museum, and Notre-Dame Cathedral. \n",
      "\n",
      "In 2023, the population of Paris was almost 2.1 million people. The city has a rich history dating back to the 3rd century BC and has played a significant role in shaping European culture and society. It is also a popular tourist destination, attracting millions of visitors each year.\n",
      "\n",
      "In addition to its cultural and historical significance, Paris is also an important economic center, hosting many international organizations and being home to the headquarters of several multinational corporations. The city is also a major hub for education, innovation, and entrepreneurship, with many world-renowned universities and research institutions.\n",
      "\n",
      "Overall, Paris is a vibrant, diverse, and culturally rich city that continues to play a significant role in shaping the world we live in today. \n",
      "\n",
      "Is there anything else you would like to know about France? Or would you like to know more about Paris? Or maybe something else? I'll do my best to help.  I am here to assist you.  Just let me know.  Also, would you like to know the history of how Paris was named after the River Seine? Or something else? Let me know.  I will be happy to help.  You can ask me anything.  I am here to help. I am happy to be of assistance.  I am here to help.  Let me know what you would like to know.  I will do my best to help.  I am here to provide information and answer any questions you may have.  Let me know if there is anything else I can do for you.  I am here to assist you.  Just let me know.  I am happy to be of assistance.  Please let me know if there is anything else I can do for you.  I am here to provide information and answer any questions you may have.  Let me know if you need help with anything else.  I'm happy to help.  Please let me know what you'd like to know or what I can do for you.  I am here to assist you.  I am happy to be of assistance.  You can ask me anything.  I will do my best to help.  Please let me know if there is anything else I can do for you.  I'm here to provide information and answer any questions you may have.  Let me know if you need help with anything else.  I'm happy to help.  I am here to assist you. \n",
      "\n",
      "Let me know if there's anything else I can help you with.  I am happy to provide more information.  You can ask me anything.  I'll do my best to help.  Please let me know if you need any more help.  I am here to assist you. \n",
      "\n",
      "Would you like to know more about France, or would you like to know more about the Eiffel Tower?  Or something else?  Let me know and I'll do my best to help.  I am here to provide information and answer any questions you may have.  Let me know if you need any more help. \n",
      "\n",
      "Let's talk more about France or maybe something else.  You can ask me anything.  I am happy to be of assistance.  I am here to help. \n",
      "\n",
      "If you have any other questions or need help with anything else, just let me know. I am here to assist you and provide information.  Please let me know how I can help.  I am happy to help in any way I can.  \n",
      "\n",
      "Would you like to know the history behind some of the major French landmarks, such as the Eiffel Tower, the Louvre Museum, or Notre-Dame Cathedral?  Or would you like to know more about French cuisine, art, fashion, or culture?  Let me know and I'll do my best to provide you with interesting information and insights. \n",
      "\n",
      " Or maybe you'd like to know more about some of the famous French artists, writers, or thinkers?  Or perhaps you're interested in learning more about the history of France, including its monarchy, revolution, and world wars?  Let me know and I'll do my best to provide you with a wealth of information and insights. \n",
      "\n",
      "Let me know if there's anything else I can help you with.  I am here to assist you.  You can ask me anything.  I will do my best to help.  I am happy to be of assistance.  Please let me know if you need any more help.  I am here to provide information and answer any questions you may have. \n",
      "\n",
      "Let's talk more about France or maybe something else.  You can ask me anything.  I am happy to be of assistance.  I am here to help. \n",
      "\n",
      "If you have any other questions or need help with anything else, just let me know.  I am here to assist you and provide information.  Please let me know how I can help.  I am happy to help in any way I can.  \n",
      "\n",
      "Would you like to know more about French history?  French culture?  French cuisine?  French art?  French fashion?  Let me know and\n",
      "[3] The capital of France is Paris.  It is the most populous city in France and also the country's cultural and economic center. The city is known for its iconic landmarks such as the Eiffel Tower, Notre-Dame Cathedral, and the Louvre Museum. Paris has played a significant role throughout French history, and it continues to be a major global city today.  It hosts many international organizations and events, including the headquarters of the United Nations Educational, Scientific and Cultural Organization (UNESCO).  It is one of the world's most popular tourist destinations, famous for its beautiful architecture, art museums, fashion, cuisine, and romantic atmosphere.  The official name of the city is \"Paris, the capital of France\" but more commonly it is called simply Paris.  The official language is French.  It has a population of about 2.1 million people in the city proper and more than 12 million in the greater metropolitan area.   The city is built along the Seine River and it is known for its beautiful bridges and canals.  Paris is home to many famous universities, museums, and theaters.  It has a rich history, from the Middle Ages to the present day.  The city is also known for its fashion industry and is considered one of the world's fashion capitals, along with New York City and Milan.  The official motto of the city is \"Fluctuat nec mergitur\" which means \"She beats but does not sink\".  The city is also known for its cuisine, including its famous pastry shops, cafes, and restaurants.  It is a city that is rich in history, culture, and beauty, and it is a must-visit destination for anyone interested in exploring the world's greatest cities.  It is also a city that is known for its friendly people and welcoming atmosphere. It is one of the most popular cities to visit in the world.  It is the cultural and historical heart of France and a city that is loved by millions of people around the world.  The city has a beautiful and rich cultural heritage and it is a city that is full of life and energy.  Paris is a city that has something for everyone, whether you are interested in history, art, fashion, food, or culture.  It is a city that is full of surprises and delights, and it is a city that will leave you with memories that will last a lifetime.  The official language of the city is French but many Parisians speak English, making it easy for tourists to navigate the city.  The city is also known for its beautiful gardens and parks, including the famous Luxembourg Gardens.  The city has a rich history and a well-preserved cultural heritage, and it is a city that is loved by millions of people around the world.  The city is known for its beautiful and iconic architecture, including the Eiffel Tower, Notre-Dame Cathedral, and the Louvre Museum.  It is a city that is full of history and culture, and it is a city that will leave you with a lasting impression.  The city is a popular destination for tourists and locals alike, and it is a city that is full of life and energy.  It is a city that has something for everyone, whether you are interested in history, art, fashion, food, or culture.  The city is known for its beautiful and rich cultural heritage, and it is a city that is loved by millions of people around the world.  Paris is a city that is full of surprises and delights, and it is a city that will leave you with memories that will last a lifetime.  The city has a well-preserved cultural heritage and it is a city that is full of history and culture.  The city is a popular destination for tourists and locals alike, and it is a city that is full of life and energy.  Paris is a city that has something for everyone, whether you are interested in history, art, fashion, food, or culture.  The city is known for its beautiful and rich cultural heritage, and it is a city that is loved by millions of people around the world.  It is a city that is full of surprises and delights, and it is a city that will leave you with memories that will last a lifetime.  The city has a well-preserved cultural heritage and it is a city that is full of history and culture.  The city is a popular destination for tourists and locals alike, and it is a city that is full of life and energy.  It is a city that has something for everyone, whether you are interested in history, art, fashion, food, or culture.  The city is known for its beautiful and rich cultural heritage, and it is a city that is loved by millions of people around the world.  Paris is a city that is full of surprises and delights, and it is a city that will leave you with memories that will last a lifetime.  The city has a well-preserved cultural heritage and it is a city that is full of history and culture.  The city is a popular destination for tourists and locals alike, and it is a city that is full of life and energy.  It is a city that has something for everyone, whether you are interested in history, art, fashion, food, or culture.  The city is known for its beautiful and rich cultural heritage, and it is a city that is loved by millions of people around the world.  Paris is a city that is full of surprises and delights,\n"
     ]
    }
   ],
   "source": [
    "# 사용 예시\n",
    "prompt = \"What is the capital of France?\"\n",
    "\n",
    "# 실행\n",
    "responses = await generate_n_responses(prompt, n=4)\n",
    "for i, r in enumerate(responses):\n",
    "    print(f\"[{i}] {r}\")"
   ]
  },
  {
   "cell_type": "code",
   "execution_count": 23,
   "id": "c7316842",
   "metadata": {},
   "outputs": [
    {
     "name": "stdout",
     "output_type": "stream",
     "text": [
      "Token count: 1123\n"
     ]
    }
   ],
   "source": [
    "from transformers import AutoTokenizer\n",
    "\n",
    "# LLaMA 3.1 tokenizer 불러오기\n",
    "tokenizer = AutoTokenizer.from_pretrained(\"meta-llama/Llama-3.1-8B-Instruct\")\n",
    "\n",
    "text = responses[1]\n",
    "\n",
    "# 토큰 수 계산\n",
    "token_count = len(tokenizer.encode(text))\n",
    "print(f\"Token count: {token_count}\")"
   ]
  },
  {
   "cell_type": "code",
   "execution_count": null,
   "id": "810ea642",
   "metadata": {},
   "outputs": [
    {
     "name": "stdout",
     "output_type": "stream",
     "text": [
      "Token count: 1501\n"
     ]
    }
   ],
   "source": [
    "# 응답 예시\n"
   ]
  },
  {
   "cell_type": "code",
   "execution_count": 18,
   "id": "7e41646d",
   "metadata": {},
   "outputs": [
    {
     "data": {
      "text/plain": [
       "\"The capital of France is Paris. It is the country's largest city and is known for its famous landmarks such as the Eiffel Tower, Notre Dame Cathedral, and the Louvre Museum. It is also a major cultural and economic hub, and is home to many of France's government institutions, universities, and cultural attractions. Paris has been the capital of France since 987. It is one of the most visited cities in the world and is known for its romantic atmosphere, fashion, art, and cuisine. It has also been the hub of many historical events and revolutions, and is home to many significant museums, galleries, and libraries. \\n\\nIf you are looking for more information, I would be happy to help. Let me know what you would like to know. \\n\\nIs there something specific you would like to know? Would you like to know more about Paris in general, or perhaps one of the cities attractions? Let me know if you would like more information. \\n\\nI can also help you with more questions if you would like. Do you have any other questions about Paris or France? Please ask me. \\n\\nI will be happy to help you with more information. \\n\\nDo you have any other questions? \\n\\nPlease let me know. If you have any questions or need further assistance, don't hesitate to ask. \\n\\nI'll be happy to help you with more information. \\n\\nWould you like more information on Paris? \\nIf you would like to know more about Paris, I can give you some information on what you can do there, what the city is like and some other information. \\n\\nWhat would you like to know about Paris? \\n\\nMaybe you would like to know more about the city's history, or perhaps you would like some information on what to do in the city? \\n\\nLet me know if you have any other questions about Paris. \\n\\nI'll be happy to help. \\n\\nDo you need more information about the city? \\n\\nIf you would like to know more about the city, I can tell you more about Paris' famous landmarks, museums, and other attractions. \\n\\nDo you have any other questions about Paris or France? \\n\\nPlease let me know. If you have any questions or need further assistance, don't hesitate to ask. \\n\\nWould you like to know more about Paris, the capital of France? \\n\\nIf you would like to know more about Paris, I can give you some information on the city's famous landmarks, museums, and other attractions. \\n\\nDo you have any other questions about Paris or France? \\n\\nPlease let me know. If you have any questions or need further assistance, don't hesitate to ask. \\n\\nI'll be happy to help you with more information. \\n\\nWhat would you like to know about Paris? \\n\\nMaybe you would like to know more about the city's history, or perhaps you would like some information on what to do in the city? \\n\\nLet me know if you have any other questions about Paris. \\n\\nDo you need more information about the city? \\n\\nIf you would like to know more about the city, I can tell you more about Paris' famous landmarks, museums, and other attractions. \\n\\nDo you have any other questions about Paris or France? \\n\\nIf you have any questions about Paris or France, I would be happy to help. \\n\\nIs there something specific you would like to know? \\n\\nDo you want to know more about Paris' famous landmarks, museums, and other attractions? \\n\\nLet me know what you would like to know. \\n\\nI'll be happy to help you with more information. \\n\\nWhat would you like to know about Paris? \\n\\nMaybe you would like to know more about the city's history, or perhaps you would like some information on what to do in the city? \\n\\nLet me know if you have any other questions about Paris. \\n\\nI'll be happy to help. \\n\\nDo you need more information about the city? \\n\\nIf you would like to know more about the city, I can tell you more about Paris' famous landmarks, museums, and other attractions. \\n\\nDo you have any other questions about Paris or France? \\n\\nLet me know if you have any questions about Paris or France. \\n\\nI'll be happy to help you with more information. \\n\\nIs there something specific you would like to know? \\n\\nDo you want to know more about Paris' famous landmarks, museums, and other attractions? \\n\\nLet me know what you would like to know. \\n\\nI'll be happy to help you with more information. \\n\\nDo you want to know more about one of the city's famous landmarks? \\n\\nIf you would like to know more about one of the city's famous landmarks, I can give you some information on the Eiffel Tower, Notre Dame Cathedral, the Louvre Museum, and other attractions. \\n\\nLet me know what you would like to know about one of the city's famous landmarks. \\n\\nI'll be happy to help you with more information. \\n\\nDo you have any other questions about Paris or France? \\n\\nIf you have any questions about Paris or France, I would be happy to help. \\n\\nIs there something specific you would like to know? \\n\\nI'll be happy to help you with more information. \\n\\nDo you want to know more about Paris' famous landmarks, museums, and other attractions? \\n\\nLet me know what you would like to know. \\n\\nI'll be happy to help you with more information. \\n\\nDo you want to know more about one of the city's famous museums? \\n\\nIf you would like to know more about one of the city's famous museums, I can give you some information on the Louvre Museum, the Musée d'Orsay, the Musée Rodin, and other museums. \\n\\nLet me know what you would like to know about one of the city's famous museums. \\n\\nI'll be happy to help you with more information. \\n\\nDo you have any other questions about Paris or France? \\n\\nIf you have any questions about Paris or France, I would be happy to help. \\n\\nIs there something specific you would like to know? \\n\\nI'll be happy to help you with more information. \\n\\nDo you want to know more about the city's cuisine? \\n\\nIf you would like to know more about the city's cuisine, I can give you some information on French cuisine, including popular dishes, restaurants, and food markets. \\n\\nLet me know what you would like to know about French cuisine. \\n\\nI'll be happy to help you with more information. \\n\\nDo you have any other questions about Paris or France? \\n\\nIf you have any questions about Paris or France, I would be happy to help. \\n\\nIs there something specific you would like to know? \\n\\nI'll be happy to help you with more information. \\n\\nDo you want to know more about the city's history? \\n\\nIf you would like to know more about the city's history, I can give you some information on Paris' history, including its medieval period, its role in the French Revolution, and its impact on world history. \\n\\nLet me know what you would like to know about Paris' history. \\n\\nI'll be happy to help you with more information. \\n\\nDo you have any other questions about Paris or France? \\n\\nIf you have any questions about Paris or France, I would be happy to help. \\n\\nIs there something specific you would like to know? \\n\\nI'll be happy to help you\""
      ]
     },
     "execution_count": 18,
     "metadata": {},
     "output_type": "execute_result"
    }
   ],
   "source": [
    "responses[0]"
   ]
  },
  {
   "cell_type": "code",
   "execution_count": 5,
   "id": "a6db5fdd",
   "metadata": {},
   "outputs": [],
   "source": [
    "from typing import List, Dict, Tuple\n",
    "from collections import defaultdict\n",
    "\n",
    "# Majority voting with normalization\n",
    "def find_majority_answer(completions: List[str]) -> Tuple[str, Dict[str, int]]:\n",
    "    canonical_groups = defaultdict(int)\n",
    "    canonical_to_original = {}\n",
    "\n",
    "    for output in completions:\n",
    "        # Step 1: Try extracting from boxed expression\n",
    "        boxed = last_boxed_only_string(output)\n",
    "        if boxed:\n",
    "            try:\n",
    "                answer = remove_boxed(boxed)\n",
    "            except Exception:\n",
    "                continue  # skip this sample if boxed parsing fails\n",
    "        else:\n",
    "            continue  # skip if no boxed answer found\n",
    "\n",
    "        # Step 2: Normalize and vote\n",
    "        canonical = strip_string(answer)\n",
    "        canonical_groups[canonical] += 1\n",
    "\n",
    "        if canonical not in canonical_to_original:\n",
    "            canonical_to_original[canonical] = answer\n",
    "\n",
    "    # Step 3: Determine majority\n",
    "    if not canonical_groups:\n",
    "        return \"\", {}  # No valid votes\n",
    "\n",
    "    max_count = max(canonical_groups.values())\n",
    "    for canonical, count in canonical_groups.items():\n",
    "        if count == max_count:\n",
    "            return canonical_to_original[canonical], dict(canonical_groups)\n",
    "\n",
    "# Inference wrapper with prompt formatting\n",
    "def majority_vote(batch: Dict, config: Dict, sampling_params, llm) -> Dict:\n",
    "    prompt = batch[\"problem\"]\n",
    "    full_prompt = f\"{config['prompt'].strip()}\\n\\n### Problem:\\n{prompt.strip()}\"\n",
    "\n",
    "    # generate가 List[RequestOutput] 반환\n",
    "    request_outputs = llm.generate(full_prompt, sampling_params=sampling_params)\n",
    "\n",
    "    # 각 RequestOutput 객체에서 outputs 리스트를 펼쳐서 CompletionOutput.text 수집\n",
    "    completions = []\n",
    "    for request_output in request_outputs:\n",
    "        completions.extend([output.text for output in request_output.outputs])\n",
    "\n",
    "    pred, votes = find_majority_answer(completions)\n",
    "\n",
    "    return {\n",
    "        \"completions\": completions,\n",
    "        \"pred\": pred,\n",
    "        \"votes\": votes,\n",
    "    }\n",
    "\n",
    "# Prediction vs GT comparison\n",
    "def evaluate_single(predicted: str, gt_solution: str) -> bool:\n",
    "    pred_norm = strip_string(predicted)\n",
    "    try:\n",
    "        gt_extracted = remove_boxed(last_boxed_only_string(gt_solution)) or gt_solution\n",
    "        gt_norm = strip_string(gt_extracted)\n",
    "    except Exception:\n",
    "        gt_norm = strip_string(gt_solution)\n",
    "    return pred_norm == gt_norm"
   ]
  },
  {
   "cell_type": "code",
   "execution_count": 6,
   "id": "65e3d860",
   "metadata": {},
   "outputs": [
    {
     "data": {
      "text/plain": [
       "Dataset({\n",
       "    features: ['problem', 'solution', 'answer', 'subject', 'level', 'unique_id'],\n",
       "    num_rows: 500\n",
       "})"
      ]
     },
     "execution_count": 6,
     "metadata": {},
     "output_type": "execute_result"
    }
   ],
   "source": [
    "from datasets import Dataset, load_dataset\n",
    "\n",
    "dataset = load_dataset(config['dataset_name'], split=config['dataset_split'])\n",
    "dataset\n"
   ]
  },
  {
   "cell_type": "markdown",
   "id": "4a76e49d",
   "metadata": {},
   "source": [
    "# Power monitoring & save module"
   ]
  },
  {
   "cell_type": "code",
   "execution_count": 7,
   "id": "cd016607",
   "metadata": {},
   "outputs": [
    {
     "data": {
      "text/plain": [
       "PosixPath('/root/search-and-learn/scripts/results')"
      ]
     },
     "execution_count": 7,
     "metadata": {},
     "output_type": "execute_result"
    }
   ],
   "source": [
    "import os\n",
    "import json\n",
    "import pandas as pd\n",
    "from pathlib import Path\n",
    "from typing import List\n",
    "\n",
    "\n",
    "# Base directory to store all results\n",
    "base_dir = Path(\"results\")\n",
    "base_dir.mkdir(exist_ok=True)\n",
    "\n",
    "# Helper function to save result and CSV placeholder\n",
    "def save_results_and_csv(problem_id: int, n: int, result: dict, is_correct: bool):\n",
    "    # Define directory\n",
    "    folder_name = f\"problem_{problem_id}_batch_{n}\"\n",
    "    folder_path = base_dir / folder_name\n",
    "    folder_path.mkdir(exist_ok=True)\n",
    "\n",
    "    # Save majority_vote result + correctness\n",
    "    result_to_save = {\n",
    "        \"pred\": result[\"pred\"],\n",
    "        \"votes\": result[\"votes\"],\n",
    "        \"completions\": result[\"completions\"],\n",
    "        \"is_correct\": is_correct\n",
    "    }\n",
    "    with open(folder_path / \"result.json\", \"w\") as f:\n",
    "        json.dump(result_to_save, f, indent=2)\n",
    "\n",
    "    # Create placeholder CSV for power monitoring\n",
    "    csv_path = folder_path / \"power_log.csv\"\n",
    "    if not csv_path.exists():\n",
    "        df = pd.DataFrame(columns=[\"timestamp\", \"power_W\"])\n",
    "        df.to_csv(csv_path, index=False)\n",
    "\n",
    "# Show a sample path\n",
    "base_dir.absolute()"
   ]
  },
  {
   "cell_type": "markdown",
   "id": "d6874db7",
   "metadata": {},
   "source": [
    "# Main experiment"
   ]
  },
  {
   "cell_type": "code",
   "execution_count": null,
   "id": "fbd0da39",
   "metadata": {},
   "outputs": [
    {
     "name": "stderr",
     "output_type": "stream",
     "text": [
      "Processed prompts:   0%|          | 0/1 [00:00<?, ?it/s, est. speed input: 0.00 toks/s, output: 0.00 toks/s]"
     ]
    },
    {
     "name": "stderr",
     "output_type": "stream",
     "text": [
      "Processed prompts: 100%|██████████| 1/1 [00:15<00:00, 15.48s/it, est. speed input: 10.73 toks/s, output: 132.35 toks/s]"
     ]
    },
    {
     "name": "stdout",
     "output_type": "stream",
     "text": [
      "✅ Finished problem_0, batch_1, correct=True\n"
     ]
    },
    {
     "name": "stderr",
     "output_type": "stream",
     "text": [
      "\n",
      "Processed prompts:   0%|          | 0/1 [00:00<?, ?it/s, est. speed input: 0.00 toks/s, output: 0.00 toks/s]huggingface/tokenizers: The current process just got forked, after parallelism has already been used. Disabling parallelism to avoid deadlocks...\n",
      "To disable this warning, you can either:\n",
      "\t- Avoid using `tokenizers` before the fork if possible\n",
      "\t- Explicitly set the environment variable TOKENIZERS_PARALLELISM=(true | false)\n",
      "Processed prompts: 100%|██████████| 1/1 [00:15<00:00, 15.27s/it, est. speed input: 10.87 toks/s, output: 268.24 toks/s]\n"
     ]
    },
    {
     "name": "stdout",
     "output_type": "stream",
     "text": [
      "✅ Finished problem_0, batch_2, correct=False\n"
     ]
    },
    {
     "name": "stderr",
     "output_type": "stream",
     "text": [
      "huggingface/tokenizers: The current process just got forked, after parallelism has already been used. Disabling parallelism to avoid deadlocks...\n",
      "To disable this warning, you can either:\n",
      "\t- Avoid using `tokenizers` before the fork if possible\n",
      "\t- Explicitly set the environment variable TOKENIZERS_PARALLELISM=(true | false)\n",
      "Processed prompts: 100%|██████████| 1/1 [00:15<00:00, 15.47s/it, est. speed input: 10.73 toks/s, output: 198.28 toks/s]"
     ]
    },
    {
     "name": "stdout",
     "output_type": "stream",
     "text": [
      "✅ Finished problem_0, batch_4, correct=True\n"
     ]
    },
    {
     "name": "stderr",
     "output_type": "stream",
     "text": [
      "\n",
      "huggingface/tokenizers: The current process just got forked, after parallelism has already been used. Disabling parallelism to avoid deadlocks...\n",
      "To disable this warning, you can either:\n",
      "\t- Avoid using `tokenizers` before the fork if possible\n",
      "\t- Explicitly set the environment variable TOKENIZERS_PARALLELISM=(true | false)\n",
      "Processed prompts: 100%|██████████| 1/1 [00:16<00:00, 16.12s/it, est. speed input: 10.30 toks/s, output: 586.84 toks/s]\n"
     ]
    },
    {
     "name": "stdout",
     "output_type": "stream",
     "text": [
      "✅ Finished problem_0, batch_8, correct=True\n"
     ]
    },
    {
     "name": "stderr",
     "output_type": "stream",
     "text": [
      "huggingface/tokenizers: The current process just got forked, after parallelism has already been used. Disabling parallelism to avoid deadlocks...\n",
      "To disable this warning, you can either:\n",
      "\t- Avoid using `tokenizers` before the fork if possible\n",
      "\t- Explicitly set the environment variable TOKENIZERS_PARALLELISM=(true | false)\n",
      "Processed prompts: 100%|██████████| 1/1 [00:16<00:00, 16.98s/it, est. speed input: 9.78 toks/s, output: 1311.48 toks/s]\n"
     ]
    },
    {
     "name": "stdout",
     "output_type": "stream",
     "text": [
      "✅ Finished problem_0, batch_16, correct=True\n"
     ]
    },
    {
     "name": "stderr",
     "output_type": "stream",
     "text": [
      "huggingface/tokenizers: The current process just got forked, after parallelism has already been used. Disabling parallelism to avoid deadlocks...\n",
      "To disable this warning, you can either:\n",
      "\t- Avoid using `tokenizers` before the fork if possible\n",
      "\t- Explicitly set the environment variable TOKENIZERS_PARALLELISM=(true | false)\n",
      "Processed prompts: 100%|██████████| 1/1 [00:19<00:00, 19.80s/it, est. speed input: 8.38 toks/s, output: 2438.42 toks/s]\n"
     ]
    },
    {
     "name": "stdout",
     "output_type": "stream",
     "text": [
      "✅ Finished problem_0, batch_32, correct=True\n"
     ]
    },
    {
     "name": "stderr",
     "output_type": "stream",
     "text": [
      "huggingface/tokenizers: The current process just got forked, after parallelism has already been used. Disabling parallelism to avoid deadlocks...\n",
      "To disable this warning, you can either:\n",
      "\t- Avoid using `tokenizers` before the fork if possible\n",
      "\t- Explicitly set the environment variable TOKENIZERS_PARALLELISM=(true | false)\n",
      "Processed prompts: 100%|██████████| 1/1 [00:20<00:00, 20.29s/it, est. speed input: 8.18 toks/s, output: 3042.27 toks/s]\n"
     ]
    },
    {
     "name": "stdout",
     "output_type": "stream",
     "text": [
      "✅ Finished problem_0, batch_48, correct=True\n"
     ]
    },
    {
     "name": "stderr",
     "output_type": "stream",
     "text": [
      "huggingface/tokenizers: The current process just got forked, after parallelism has already been used. Disabling parallelism to avoid deadlocks...\n",
      "To disable this warning, you can either:\n",
      "\t- Avoid using `tokenizers` before the fork if possible\n",
      "\t- Explicitly set the environment variable TOKENIZERS_PARALLELISM=(true | false)\n",
      "Processed prompts: 100%|██████████| 1/1 [00:24<00:00, 24.34s/it, est. speed input: 6.82 toks/s, output: 3930.99 toks/s]\n"
     ]
    },
    {
     "name": "stdout",
     "output_type": "stream",
     "text": [
      "✅ Finished problem_0, batch_64, correct=True\n"
     ]
    },
    {
     "name": "stderr",
     "output_type": "stream",
     "text": [
      "huggingface/tokenizers: The current process just got forked, after parallelism has already been used. Disabling parallelism to avoid deadlocks...\n",
      "To disable this warning, you can either:\n",
      "\t- Avoid using `tokenizers` before the fork if possible\n",
      "\t- Explicitly set the environment variable TOKENIZERS_PARALLELISM=(true | false)\n",
      "Processed prompts: 100%|██████████| 1/1 [00:25<00:00, 25.56s/it, est. speed input: 6.49 toks/s, output: 4660.41 toks/s]\n"
     ]
    },
    {
     "name": "stdout",
     "output_type": "stream",
     "text": [
      "✅ Finished problem_0, batch_80, correct=True\n"
     ]
    },
    {
     "name": "stderr",
     "output_type": "stream",
     "text": [
      "huggingface/tokenizers: The current process just got forked, after parallelism has already been used. Disabling parallelism to avoid deadlocks...\n",
      "To disable this warning, you can either:\n",
      "\t- Avoid using `tokenizers` before the fork if possible\n",
      "\t- Explicitly set the environment variable TOKENIZERS_PARALLELISM=(true | false)\n",
      "Processed prompts:   0%|          | 0/1 [00:00<?, ?it/s, est. speed input: 0.00 toks/s, output: 0.00 toks/s]"
     ]
    },
    {
     "name": "stdout",
     "output_type": "stream",
     "text": [
      "Monitoring stopped.\n"
     ]
    },
    {
     "ename": "KeyboardInterrupt",
     "evalue": "",
     "output_type": "error",
     "traceback": [
      "\u001b[31m---------------------------------------------------------------------------\u001b[39m",
      "\u001b[31mKeyboardInterrupt\u001b[39m                         Traceback (most recent call last)",
      "\u001b[36mCell\u001b[39m\u001b[36m \u001b[39m\u001b[32mIn[8]\u001b[39m\u001b[32m, line 32\u001b[39m\n\u001b[32m     24\u001b[39m sampling_params = SamplingParams(\n\u001b[32m     25\u001b[39m     n=n,\n\u001b[32m     26\u001b[39m     temperature=\u001b[32m0.8\u001b[39m,\n\u001b[32m     27\u001b[39m     top_p=\u001b[32m1.0\u001b[39m,\n\u001b[32m     28\u001b[39m     max_tokens=\u001b[32m2048\u001b[39m,\n\u001b[32m     29\u001b[39m )\n\u001b[32m     31\u001b[39m \u001b[38;5;28;01mtry\u001b[39;00m:\n\u001b[32m---> \u001b[39m\u001b[32m32\u001b[39m     result = majority_vote(dataset[idx], config, sampling_params, llm)\n\u001b[32m     33\u001b[39m     is_correct = is_equiv(result[\u001b[33m\"\u001b[39m\u001b[33mpred\u001b[39m\u001b[33m\"\u001b[39m], dataset[idx][\u001b[33m'\u001b[39m\u001b[33manswer\u001b[39m\u001b[33m'\u001b[39m], verbose=\u001b[38;5;28;01mFalse\u001b[39;00m)\n\u001b[32m     34\u001b[39m \u001b[38;5;28;01mexcept\u001b[39;00m \u001b[38;5;167;01mException\u001b[39;00m \u001b[38;5;28;01mas\u001b[39;00m e:\n",
      "\u001b[36mCell\u001b[39m\u001b[36m \u001b[39m\u001b[32mIn[5]\u001b[39m\u001b[32m, line 42\u001b[39m, in \u001b[36mmajority_vote\u001b[39m\u001b[34m(batch, config, sampling_params, llm)\u001b[39m\n\u001b[32m     39\u001b[39m full_prompt = \u001b[33mf\u001b[39m\u001b[33m\"\u001b[39m\u001b[38;5;132;01m{\u001b[39;00mconfig[\u001b[33m'\u001b[39m\u001b[33mprompt\u001b[39m\u001b[33m'\u001b[39m].strip()\u001b[38;5;132;01m}\u001b[39;00m\u001b[38;5;130;01m\\n\u001b[39;00m\u001b[38;5;130;01m\\n\u001b[39;00m\u001b[33m### Problem:\u001b[39m\u001b[38;5;130;01m\\n\u001b[39;00m\u001b[38;5;132;01m{\u001b[39;00mprompt.strip()\u001b[38;5;132;01m}\u001b[39;00m\u001b[33m\"\u001b[39m\n\u001b[32m     41\u001b[39m \u001b[38;5;66;03m# generate가 List[RequestOutput] 반환\u001b[39;00m\n\u001b[32m---> \u001b[39m\u001b[32m42\u001b[39m request_outputs = llm.generate(full_prompt, sampling_params=sampling_params)\n\u001b[32m     44\u001b[39m \u001b[38;5;66;03m# 각 RequestOutput 객체에서 outputs 리스트를 펼쳐서 CompletionOutput.text 수집\u001b[39;00m\n\u001b[32m     45\u001b[39m completions = []\n",
      "\u001b[36mFile \u001b[39m\u001b[32m~/miniconda/envs/sal/lib/python3.11/site-packages/vllm/utils.py:1063\u001b[39m, in \u001b[36mdeprecate_kwargs.<locals>.wrapper.<locals>.inner\u001b[39m\u001b[34m(*args, **kwargs)\u001b[39m\n\u001b[32m   1056\u001b[39m             msg += \u001b[33mf\u001b[39m\u001b[33m\"\u001b[39m\u001b[33m \u001b[39m\u001b[38;5;132;01m{\u001b[39;00madditional_message\u001b[38;5;132;01m}\u001b[39;00m\u001b[33m\"\u001b[39m\n\u001b[32m   1058\u001b[39m         warnings.warn(\n\u001b[32m   1059\u001b[39m             \u001b[38;5;167;01mDeprecationWarning\u001b[39;00m(msg),\n\u001b[32m   1060\u001b[39m             stacklevel=\u001b[32m3\u001b[39m,  \u001b[38;5;66;03m# The inner function takes up one level\u001b[39;00m\n\u001b[32m   1061\u001b[39m         )\n\u001b[32m-> \u001b[39m\u001b[32m1063\u001b[39m \u001b[38;5;28;01mreturn\u001b[39;00m fn(*args, **kwargs)\n",
      "\u001b[36mFile \u001b[39m\u001b[32m~/miniconda/envs/sal/lib/python3.11/site-packages/vllm/entrypoints/llm.py:353\u001b[39m, in \u001b[36mLLM.generate\u001b[39m\u001b[34m(self, prompts, sampling_params, prompt_token_ids, use_tqdm, lora_request, prompt_adapter_request, guided_options_request, priority)\u001b[39m\n\u001b[32m    343\u001b[39m     sampling_params = SamplingParams()\n\u001b[32m    345\u001b[39m \u001b[38;5;28mself\u001b[39m._validate_and_add_requests(\n\u001b[32m    346\u001b[39m     prompts=parsed_prompts,\n\u001b[32m    347\u001b[39m     params=sampling_params,\n\u001b[32m   (...)\u001b[39m\u001b[32m    350\u001b[39m     guided_options=guided_options_request,\n\u001b[32m    351\u001b[39m     priority=priority)\n\u001b[32m--> \u001b[39m\u001b[32m353\u001b[39m outputs = \u001b[38;5;28mself\u001b[39m._run_engine(use_tqdm=use_tqdm)\n\u001b[32m    354\u001b[39m \u001b[38;5;28;01mreturn\u001b[39;00m LLMEngine.validate_outputs(outputs, RequestOutput)\n",
      "\u001b[36mFile \u001b[39m\u001b[32m~/miniconda/envs/sal/lib/python3.11/site-packages/vllm/entrypoints/llm.py:879\u001b[39m, in \u001b[36mLLM._run_engine\u001b[39m\u001b[34m(self, use_tqdm)\u001b[39m\n\u001b[32m    877\u001b[39m total_out_toks = \u001b[32m0\u001b[39m\n\u001b[32m    878\u001b[39m \u001b[38;5;28;01mwhile\u001b[39;00m \u001b[38;5;28mself\u001b[39m.llm_engine.has_unfinished_requests():\n\u001b[32m--> \u001b[39m\u001b[32m879\u001b[39m     step_outputs = \u001b[38;5;28mself\u001b[39m.llm_engine.step()\n\u001b[32m    880\u001b[39m     \u001b[38;5;28;01mfor\u001b[39;00m output \u001b[38;5;129;01min\u001b[39;00m step_outputs:\n\u001b[32m    881\u001b[39m         \u001b[38;5;28;01mif\u001b[39;00m output.finished:\n",
      "\u001b[36mFile \u001b[39m\u001b[32m~/miniconda/envs/sal/lib/python3.11/site-packages/vllm/engine/llm_engine.py:1386\u001b[39m, in \u001b[36mLLMEngine.step\u001b[39m\u001b[34m(self)\u001b[39m\n\u001b[32m   1382\u001b[39m \u001b[38;5;28;01mif\u001b[39;00m allow_async_output_proc:\n\u001b[32m   1383\u001b[39m     execute_model_req.async_callback = \u001b[38;5;28mself\u001b[39m.async_callbacks[\n\u001b[32m   1384\u001b[39m         virtual_engine]\n\u001b[32m-> \u001b[39m\u001b[32m1386\u001b[39m outputs = \u001b[38;5;28mself\u001b[39m.model_executor.execute_model(\n\u001b[32m   1387\u001b[39m     execute_model_req=execute_model_req)\n\u001b[32m   1389\u001b[39m \u001b[38;5;66;03m# We need to do this here so that last step's sampled_token_ids can\u001b[39;00m\n\u001b[32m   1390\u001b[39m \u001b[38;5;66;03m# be passed to the next iteration for PP.\u001b[39;00m\n\u001b[32m   1391\u001b[39m \u001b[38;5;28;01mif\u001b[39;00m \u001b[38;5;28mself\u001b[39m.scheduler_config.is_multi_step:\n",
      "\u001b[36mFile \u001b[39m\u001b[32m~/miniconda/envs/sal/lib/python3.11/site-packages/vllm/executor/gpu_executor.py:134\u001b[39m, in \u001b[36mGPUExecutor.execute_model\u001b[39m\u001b[34m(self, execute_model_req)\u001b[39m\n\u001b[32m    131\u001b[39m \u001b[38;5;28;01mdef\u001b[39;00m\u001b[38;5;250m \u001b[39m\u001b[34mexecute_model\u001b[39m(\n\u001b[32m    132\u001b[39m     \u001b[38;5;28mself\u001b[39m, execute_model_req: ExecuteModelRequest\n\u001b[32m    133\u001b[39m ) -> Optional[List[Union[SamplerOutput, PoolerOutput]]]:\n\u001b[32m--> \u001b[39m\u001b[32m134\u001b[39m     output = \u001b[38;5;28mself\u001b[39m.driver_worker.execute_model(execute_model_req)\n\u001b[32m    135\u001b[39m     \u001b[38;5;28;01mreturn\u001b[39;00m output\n",
      "\u001b[36mFile \u001b[39m\u001b[32m~/miniconda/envs/sal/lib/python3.11/site-packages/vllm/worker/worker_base.py:327\u001b[39m, in \u001b[36mLocalOrDistributedWorkerBase.execute_model\u001b[39m\u001b[34m(self, execute_model_req)\u001b[39m\n\u001b[32m    322\u001b[39m     \u001b[38;5;28;01mif\u001b[39;00m (\u001b[38;5;28mself\u001b[39m.observability_config \u001b[38;5;129;01mis\u001b[39;00m \u001b[38;5;129;01mnot\u001b[39;00m \u001b[38;5;28;01mNone\u001b[39;00m\n\u001b[32m    323\u001b[39m             \u001b[38;5;129;01mand\u001b[39;00m \u001b[38;5;28mself\u001b[39m.observability_config.collect_model_execute_time):\n\u001b[32m    324\u001b[39m         orig_model_execute_time = intermediate_tensors.tensors.get(\n\u001b[32m    325\u001b[39m             \u001b[33m\"\u001b[39m\u001b[33mmodel_execute_time\u001b[39m\u001b[33m\"\u001b[39m, torch.tensor(\u001b[32m0\u001b[39m)).item()\n\u001b[32m--> \u001b[39m\u001b[32m327\u001b[39m output = \u001b[38;5;28mself\u001b[39m.model_runner.execute_model(\n\u001b[32m    328\u001b[39m     model_input=model_input,\n\u001b[32m    329\u001b[39m     kv_caches=\u001b[38;5;28mself\u001b[39m.kv_cache[worker_input.virtual_engine]\n\u001b[32m    330\u001b[39m     \u001b[38;5;28;01mif\u001b[39;00m \u001b[38;5;28mself\u001b[39m.kv_cache \u001b[38;5;129;01mis\u001b[39;00m \u001b[38;5;129;01mnot\u001b[39;00m \u001b[38;5;28;01mNone\u001b[39;00m \u001b[38;5;28;01melse\u001b[39;00m \u001b[38;5;28;01mNone\u001b[39;00m,\n\u001b[32m    331\u001b[39m     intermediate_tensors=intermediate_tensors,\n\u001b[32m    332\u001b[39m     num_steps=num_steps,\n\u001b[32m    333\u001b[39m     **kwargs,\n\u001b[32m    334\u001b[39m )\n\u001b[32m    336\u001b[39m model_execute_time = time.perf_counter() - start_time\n\u001b[32m    337\u001b[39m \u001b[38;5;28;01mif\u001b[39;00m \u001b[38;5;129;01mnot\u001b[39;00m get_pp_group().is_last_rank:\n\u001b[32m    338\u001b[39m     \u001b[38;5;66;03m# output is IntermediateTensors\u001b[39;00m\n",
      "\u001b[36mFile \u001b[39m\u001b[32m~/miniconda/envs/sal/lib/python3.11/site-packages/torch/utils/_contextlib.py:116\u001b[39m, in \u001b[36mcontext_decorator.<locals>.decorate_context\u001b[39m\u001b[34m(*args, **kwargs)\u001b[39m\n\u001b[32m    113\u001b[39m \u001b[38;5;129m@functools\u001b[39m.wraps(func)\n\u001b[32m    114\u001b[39m \u001b[38;5;28;01mdef\u001b[39;00m\u001b[38;5;250m \u001b[39m\u001b[34mdecorate_context\u001b[39m(*args, **kwargs):\n\u001b[32m    115\u001b[39m     \u001b[38;5;28;01mwith\u001b[39;00m ctx_factory():\n\u001b[32m--> \u001b[39m\u001b[32m116\u001b[39m         \u001b[38;5;28;01mreturn\u001b[39;00m func(*args, **kwargs)\n",
      "\u001b[36mFile \u001b[39m\u001b[32m~/miniconda/envs/sal/lib/python3.11/site-packages/vllm/worker/model_runner_base.py:116\u001b[39m, in \u001b[36mdump_input_when_exception.<locals>._inner.<locals>._wrapper\u001b[39m\u001b[34m(*args, **kwargs)\u001b[39m\n\u001b[32m    113\u001b[39m \u001b[38;5;129m@wraps\u001b[39m(func)\n\u001b[32m    114\u001b[39m \u001b[38;5;28;01mdef\u001b[39;00m\u001b[38;5;250m \u001b[39m\u001b[34m_wrapper\u001b[39m(*args, **kwargs):\n\u001b[32m    115\u001b[39m     \u001b[38;5;28;01mtry\u001b[39;00m:\n\u001b[32m--> \u001b[39m\u001b[32m116\u001b[39m         \u001b[38;5;28;01mreturn\u001b[39;00m func(*args, **kwargs)\n\u001b[32m    117\u001b[39m     \u001b[38;5;28;01mexcept\u001b[39;00m \u001b[38;5;167;01mException\u001b[39;00m \u001b[38;5;28;01mas\u001b[39;00m err:\n\u001b[32m    118\u001b[39m         timestamp = datetime.now().strftime(\u001b[33m\"\u001b[39m\u001b[33m%\u001b[39m\u001b[33mY\u001b[39m\u001b[33m%\u001b[39m\u001b[33mm\u001b[39m\u001b[38;5;132;01m%d\u001b[39;00m\u001b[33m-\u001b[39m\u001b[33m%\u001b[39m\u001b[33mH\u001b[39m\u001b[33m%\u001b[39m\u001b[33mM\u001b[39m\u001b[33m%\u001b[39m\u001b[33mS\u001b[39m\u001b[33m\"\u001b[39m)\n",
      "\u001b[36mFile \u001b[39m\u001b[32m~/miniconda/envs/sal/lib/python3.11/site-packages/vllm/worker/model_runner.py:1708\u001b[39m, in \u001b[36mModelRunner.execute_model\u001b[39m\u001b[34m(self, model_input, kv_caches, intermediate_tensors, num_steps)\u001b[39m\n\u001b[32m   1705\u001b[39m     model_input.async_callback()\n\u001b[32m   1707\u001b[39m \u001b[38;5;66;03m# Sample the next token.\u001b[39;00m\n\u001b[32m-> \u001b[39m\u001b[32m1708\u001b[39m output: SamplerOutput = \u001b[38;5;28mself\u001b[39m.model.sample(\n\u001b[32m   1709\u001b[39m     logits=logits,\n\u001b[32m   1710\u001b[39m     sampling_metadata=model_input.sampling_metadata,\n\u001b[32m   1711\u001b[39m )\n\u001b[32m   1712\u001b[39m \u001b[38;5;28;01mif\u001b[39;00m (\u001b[38;5;28mself\u001b[39m.observability_config \u001b[38;5;129;01mis\u001b[39;00m \u001b[38;5;129;01mnot\u001b[39;00m \u001b[38;5;28;01mNone\u001b[39;00m\n\u001b[32m   1713\u001b[39m         \u001b[38;5;129;01mand\u001b[39;00m \u001b[38;5;28mself\u001b[39m.observability_config.collect_model_forward_time\n\u001b[32m   1714\u001b[39m         \u001b[38;5;129;01mand\u001b[39;00m output \u001b[38;5;129;01mis\u001b[39;00m \u001b[38;5;129;01mnot\u001b[39;00m \u001b[38;5;28;01mNone\u001b[39;00m):\n\u001b[32m   1715\u001b[39m     model_forward_end.synchronize()\n",
      "\u001b[36mFile \u001b[39m\u001b[32m~/miniconda/envs/sal/lib/python3.11/site-packages/vllm/model_executor/models/llama.py:571\u001b[39m, in \u001b[36mLlamaForCausalLM.sample\u001b[39m\u001b[34m(self, logits, sampling_metadata)\u001b[39m\n\u001b[32m    569\u001b[39m \u001b[38;5;28;01mdef\u001b[39;00m\u001b[38;5;250m \u001b[39m\u001b[34msample\u001b[39m(\u001b[38;5;28mself\u001b[39m, logits: torch.Tensor,\n\u001b[32m    570\u001b[39m            sampling_metadata: SamplingMetadata) -> Optional[SamplerOutput]:\n\u001b[32m--> \u001b[39m\u001b[32m571\u001b[39m     next_tokens = \u001b[38;5;28mself\u001b[39m.sampler(logits, sampling_metadata)\n\u001b[32m    572\u001b[39m     \u001b[38;5;28;01mreturn\u001b[39;00m next_tokens\n",
      "\u001b[36mFile \u001b[39m\u001b[32m~/miniconda/envs/sal/lib/python3.11/site-packages/torch/nn/modules/module.py:1553\u001b[39m, in \u001b[36mModule._wrapped_call_impl\u001b[39m\u001b[34m(self, *args, **kwargs)\u001b[39m\n\u001b[32m   1551\u001b[39m     \u001b[38;5;28;01mreturn\u001b[39;00m \u001b[38;5;28mself\u001b[39m._compiled_call_impl(*args, **kwargs)  \u001b[38;5;66;03m# type: ignore[misc]\u001b[39;00m\n\u001b[32m   1552\u001b[39m \u001b[38;5;28;01melse\u001b[39;00m:\n\u001b[32m-> \u001b[39m\u001b[32m1553\u001b[39m     \u001b[38;5;28;01mreturn\u001b[39;00m \u001b[38;5;28mself\u001b[39m._call_impl(*args, **kwargs)\n",
      "\u001b[36mFile \u001b[39m\u001b[32m~/miniconda/envs/sal/lib/python3.11/site-packages/torch/nn/modules/module.py:1562\u001b[39m, in \u001b[36mModule._call_impl\u001b[39m\u001b[34m(self, *args, **kwargs)\u001b[39m\n\u001b[32m   1557\u001b[39m \u001b[38;5;66;03m# If we don't have any hooks, we want to skip the rest of the logic in\u001b[39;00m\n\u001b[32m   1558\u001b[39m \u001b[38;5;66;03m# this function, and just call forward.\u001b[39;00m\n\u001b[32m   1559\u001b[39m \u001b[38;5;28;01mif\u001b[39;00m \u001b[38;5;129;01mnot\u001b[39;00m (\u001b[38;5;28mself\u001b[39m._backward_hooks \u001b[38;5;129;01mor\u001b[39;00m \u001b[38;5;28mself\u001b[39m._backward_pre_hooks \u001b[38;5;129;01mor\u001b[39;00m \u001b[38;5;28mself\u001b[39m._forward_hooks \u001b[38;5;129;01mor\u001b[39;00m \u001b[38;5;28mself\u001b[39m._forward_pre_hooks\n\u001b[32m   1560\u001b[39m         \u001b[38;5;129;01mor\u001b[39;00m _global_backward_pre_hooks \u001b[38;5;129;01mor\u001b[39;00m _global_backward_hooks\n\u001b[32m   1561\u001b[39m         \u001b[38;5;129;01mor\u001b[39;00m _global_forward_hooks \u001b[38;5;129;01mor\u001b[39;00m _global_forward_pre_hooks):\n\u001b[32m-> \u001b[39m\u001b[32m1562\u001b[39m     \u001b[38;5;28;01mreturn\u001b[39;00m forward_call(*args, **kwargs)\n\u001b[32m   1564\u001b[39m \u001b[38;5;28;01mtry\u001b[39;00m:\n\u001b[32m   1565\u001b[39m     result = \u001b[38;5;28;01mNone\u001b[39;00m\n",
      "\u001b[36mFile \u001b[39m\u001b[32m~/miniconda/envs/sal/lib/python3.11/site-packages/vllm/model_executor/layers/sampler.py:274\u001b[39m, in \u001b[36mSampler.forward\u001b[39m\u001b[34m(self, logits, sampling_metadata)\u001b[39m\n\u001b[32m    271\u001b[39m logprobs = torch.log_softmax(logits, dim=-\u001b[32m1\u001b[39m, dtype=torch.float)\n\u001b[32m    273\u001b[39m \u001b[38;5;66;03m# Sample the next tokens.\u001b[39;00m\n\u001b[32m--> \u001b[39m\u001b[32m274\u001b[39m maybe_deferred_sample_results, maybe_sampled_tokens_tensor = _sample(\n\u001b[32m    275\u001b[39m     probs,\n\u001b[32m    276\u001b[39m     logprobs,\n\u001b[32m    277\u001b[39m     sampling_metadata,\n\u001b[32m    278\u001b[39m     sampling_tensors,\n\u001b[32m    279\u001b[39m     include_gpu_probs_tensor=\u001b[38;5;28mself\u001b[39m.include_gpu_probs_tensor,\n\u001b[32m    280\u001b[39m     modify_greedy_probs=\u001b[38;5;28mself\u001b[39m._should_modify_greedy_probs_inplace,\n\u001b[32m    281\u001b[39m )\n\u001b[32m    283\u001b[39m \u001b[38;5;28;01mif\u001b[39;00m \u001b[38;5;28mself\u001b[39m.include_gpu_probs_tensor:\n\u001b[32m    284\u001b[39m     \u001b[38;5;66;03m# Since we will defer sampler result Pythonization,\u001b[39;00m\n\u001b[32m    285\u001b[39m     \u001b[38;5;66;03m# preserve GPU-side tensors in support of later\u001b[39;00m\n\u001b[32m    286\u001b[39m     \u001b[38;5;66;03m# deferred pythonization of logprobs\u001b[39;00m\n\u001b[32m    287\u001b[39m     \u001b[38;5;28;01massert\u001b[39;00m maybe_sampled_tokens_tensor \u001b[38;5;129;01mis\u001b[39;00m \u001b[38;5;129;01mnot\u001b[39;00m \u001b[38;5;28;01mNone\u001b[39;00m\n",
      "\u001b[36mFile \u001b[39m\u001b[32m~/miniconda/envs/sal/lib/python3.11/site-packages/vllm/model_executor/layers/sampler.py:878\u001b[39m, in \u001b[36m_sample\u001b[39m\u001b[34m(probs, logprobs, sampling_metadata, sampling_tensors, include_gpu_probs_tensor, modify_greedy_probs)\u001b[39m\n\u001b[32m    858\u001b[39m \u001b[38;5;28;01mdef\u001b[39;00m\u001b[38;5;250m \u001b[39m\u001b[34m_sample\u001b[39m(\n\u001b[32m    859\u001b[39m     probs: torch.Tensor,\n\u001b[32m    860\u001b[39m     logprobs: torch.Tensor,\n\u001b[32m   (...)\u001b[39m\u001b[32m    864\u001b[39m     modify_greedy_probs: \u001b[38;5;28mbool\u001b[39m,\n\u001b[32m    865\u001b[39m ) -> SampleReturnType:\n\u001b[32m    866\u001b[39m \u001b[38;5;250m    \u001b[39m\u001b[33;03m\"\"\"\u001b[39;00m\n\u001b[32m    867\u001b[39m \u001b[33;03m    Args:\u001b[39;00m\n\u001b[32m    868\u001b[39m \u001b[33;03m        probs: (num_query_tokens_in_batch, num_vocab)\u001b[39;00m\n\u001b[32m   (...)\u001b[39m\u001b[32m    876\u001b[39m \u001b[33;03m        sampled_token_ids_tensor: A tensor of sampled token ids.\u001b[39;00m\n\u001b[32m    877\u001b[39m \u001b[33;03m    \"\"\"\u001b[39;00m\n\u001b[32m--> \u001b[39m\u001b[32m878\u001b[39m     \u001b[38;5;28;01mreturn\u001b[39;00m _sample_with_torch(\n\u001b[32m    879\u001b[39m         probs,\n\u001b[32m    880\u001b[39m         logprobs,\n\u001b[32m    881\u001b[39m         sampling_metadata,\n\u001b[32m    882\u001b[39m         sampling_tensors,\n\u001b[32m    883\u001b[39m         include_gpu_probs_tensor=include_gpu_probs_tensor,\n\u001b[32m    884\u001b[39m         modify_greedy_probs=modify_greedy_probs,\n\u001b[32m    885\u001b[39m     )\n",
      "\u001b[36mFile \u001b[39m\u001b[32m~/miniconda/envs/sal/lib/python3.11/site-packages/vllm/model_executor/layers/sampler.py:847\u001b[39m, in \u001b[36m_sample_with_torch\u001b[39m\u001b[34m(probs, logprobs, sampling_metadata, sampling_tensors, include_gpu_probs_tensor, modify_greedy_probs)\u001b[39m\n\u001b[32m    835\u001b[39m maybe_deferred_args = SampleResultArgsType(\n\u001b[32m    836\u001b[39m     sampling_metadata=sampling_metadata,\n\u001b[32m    837\u001b[39m     sample_metadata=sample_metadata,\n\u001b[32m   (...)\u001b[39m\u001b[32m    840\u001b[39m     beam_search_logprobs=beam_search_logprobs,\n\u001b[32m    841\u001b[39m     sample_results_dict=sample_results_dict)\n\u001b[32m    843\u001b[39m \u001b[38;5;28;01mif\u001b[39;00m \u001b[38;5;129;01mnot\u001b[39;00m sampling_metadata.skip_sampler_cpu_output:\n\u001b[32m    844\u001b[39m     \u001b[38;5;66;03m# GPU<->CPU sync happens here.\u001b[39;00m\n\u001b[32m    845\u001b[39m     \u001b[38;5;66;03m# This also converts the sampler output to a Python object.\u001b[39;00m\n\u001b[32m    846\u001b[39m     \u001b[38;5;66;03m# Return Pythonized sampler result & sampled token ids\u001b[39;00m\n\u001b[32m--> \u001b[39m\u001b[32m847\u001b[39m     \u001b[38;5;28;01mreturn\u001b[39;00m get_pythonized_sample_results(\n\u001b[32m    848\u001b[39m         maybe_deferred_args), sampled_token_ids_tensor\n\u001b[32m    849\u001b[39m \u001b[38;5;28;01melse\u001b[39;00m:\n\u001b[32m    850\u001b[39m     \u001b[38;5;66;03m# Defer sampler result Pythonization; return deferred\u001b[39;00m\n\u001b[32m    851\u001b[39m     \u001b[38;5;66;03m# Pythonization args & sampled token ids\u001b[39;00m\n\u001b[32m    852\u001b[39m     \u001b[38;5;28;01mreturn\u001b[39;00m (\n\u001b[32m    853\u001b[39m         maybe_deferred_args,\n\u001b[32m    854\u001b[39m         sampled_token_ids_tensor,\n\u001b[32m    855\u001b[39m     )\n",
      "\u001b[36mFile \u001b[39m\u001b[32m~/miniconda/envs/sal/lib/python3.11/site-packages/vllm/model_executor/layers/sampler.py:713\u001b[39m, in \u001b[36mget_pythonized_sample_results\u001b[39m\u001b[34m(sample_result_args)\u001b[39m\n\u001b[32m    711\u001b[39m     sample_results = _greedy_sample(seq_groups, greedy_samples)\n\u001b[32m    712\u001b[39m \u001b[38;5;28;01melif\u001b[39;00m sampling_type \u001b[38;5;129;01min\u001b[39;00m (SamplingType.RANDOM, SamplingType.RANDOM_SEED):\n\u001b[32m--> \u001b[39m\u001b[32m713\u001b[39m     sample_results = _random_sample(seq_groups,\n\u001b[32m    714\u001b[39m                                     multinomial_samples[sampling_type])\n\u001b[32m    715\u001b[39m \u001b[38;5;28;01melif\u001b[39;00m sampling_type == SamplingType.BEAM:\n\u001b[32m    716\u001b[39m     sample_results = _beam_search_sample(seq_groups,\n\u001b[32m    717\u001b[39m                                          beam_search_logprobs)\n",
      "\u001b[36mFile \u001b[39m\u001b[32m~/miniconda/envs/sal/lib/python3.11/site-packages/vllm/model_executor/layers/sampler.py:512\u001b[39m, in \u001b[36m_random_sample\u001b[39m\u001b[34m(selected_seq_groups, random_samples)\u001b[39m\n\u001b[32m    499\u001b[39m \u001b[38;5;250m\u001b[39m\u001b[33;03m\"\"\"Run random sampling on a given samples.\u001b[39;00m\n\u001b[32m    500\u001b[39m \n\u001b[32m    501\u001b[39m \u001b[33;03mArgs:\u001b[39;00m\n\u001b[32m   (...)\u001b[39m\u001b[32m    509\u001b[39m \u001b[33;03m    seq_group has do_sample=False, tuple contains ([], [])\u001b[39;00m\n\u001b[32m    510\u001b[39m \u001b[33;03m\"\"\"\u001b[39;00m\n\u001b[32m    511\u001b[39m \u001b[38;5;66;03m# Find the maximum n value of the prompt phase requests.\u001b[39;00m\n\u001b[32m--> \u001b[39m\u001b[32m512\u001b[39m random_samples = random_samples.cpu()\n\u001b[32m    513\u001b[39m sample_idx = \u001b[32m0\u001b[39m\n\u001b[32m    514\u001b[39m results: SampleResultType = []\n",
      "\u001b[31mKeyboardInterrupt\u001b[39m: "
     ]
    }
   ],
   "source": [
    "from monitor_power import monitor_npu_power_usage, monitor_gpu_power_usage, calculate_avg_power_usage\n",
    "from multiprocessing import Process, Queue\n",
    "from datetime import datetime\n",
    "\n",
    "n_values = [1, 2, 4, 8, 16, 32, 48, 64, 80, 96, 112, 128]\n",
    "\n",
    "# 전체 루프\n",
    "for n in n_values:\n",
    "    for idx in range(500):\n",
    "    \n",
    "        # 1. 폴더 생성\n",
    "        run_dir = f\"results/batch_{n}/problem_{idx}\"\n",
    "        os.makedirs(run_dir, exist_ok=True)\n",
    "        power_monitor_path = os.path.join(run_dir, \"device_status.csv\")\n",
    "\n",
    "        # 2. Power monitor start\n",
    "        stop_queue = Queue()\n",
    "        monitor_process = Process(\n",
    "            target=monitor_gpu_power_usage,  # or monitor_npu_power_usage\n",
    "            args=(power_monitor_path, stop_queue)\n",
    "        )\n",
    "        monitor_process.start()\n",
    "\n",
    "        # 3. Run inference\n",
    "        sampling_params = SamplingParams(\n",
    "            n=n,\n",
    "            temperature=0.8,\n",
    "            top_p=1.0,\n",
    "            max_tokens=2048,\n",
    "        )\n",
    "\n",
    "        try:\n",
    "            result = majority_vote(dataset[idx], config, sampling_params, llm)\n",
    "            is_correct = is_equiv(result[\"pred\"], dataset[idx]['answer'], verbose=False)\n",
    "        except Exception as e:\n",
    "            result = {\"error\": str(e)}\n",
    "            is_correct = False\n",
    "\n",
    "        # 4. Stop power monitor\n",
    "        stop_queue.put(\"stop\")\n",
    "        monitor_process.join()\n",
    "\n",
    "        # 5. 평균 전력 사용량 계산\n",
    "        avg_power = calculate_avg_power_usage(power_monitor_path)\n",
    "\n",
    "        # 6. 결과 저장\n",
    "        output_path = os.path.join(run_dir, \"result.json\")\n",
    "        with open(output_path, \"w\") as f:\n",
    "            json.dump({\n",
    "                \"index\": idx,\n",
    "                \"batch_size\": n,\n",
    "                \"prediction\": result.get(\"pred\"),\n",
    "                \"votes\": result.get(\"votes\"),\n",
    "                \"is_correct\": is_correct,\n",
    "                \"avg_power_usage\": avg_power,\n",
    "                \"error\": result.get(\"error\", None)\n",
    "            }, f, indent=2)\n",
    "\n",
    "        print(f\"✅ Finished problem_{idx}, batch_{n}, correct={is_correct}\")"
   ]
  },
  {
   "cell_type": "code",
   "execution_count": null,
   "id": "5e68ba77",
   "metadata": {},
   "outputs": [],
   "source": []
  },
  {
   "cell_type": "markdown",
   "id": "509f39f3",
   "metadata": {},
   "source": []
  }
 ],
 "metadata": {
  "kernelspec": {
   "display_name": "Python 3",
   "language": "python",
   "name": "python3"
  },
  "language_info": {
   "codemirror_mode": {
    "name": "ipython",
    "version": 3
   },
   "file_extension": ".py",
   "mimetype": "text/x-python",
   "name": "python",
   "nbconvert_exporter": "python",
   "pygments_lexer": "ipython3",
   "version": "3.10.12"
  }
 },
 "nbformat": 4,
 "nbformat_minor": 5
}
